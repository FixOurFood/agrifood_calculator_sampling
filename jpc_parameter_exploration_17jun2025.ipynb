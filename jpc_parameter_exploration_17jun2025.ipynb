{
 "cells": [
  {
   "cell_type": "code",
   "execution_count": 1,
   "id": "3c8c4881-d9f6-4fd4-915a-0a5e56baf664",
   "metadata": {
    "trusted": true
   },
   "outputs": [],
   "source": [
    "import matplotlib.pyplot as plt\n",
    "import xarray as xr\n",
    "import numpy as np\n",
    "from scipy.ndimage import zoom\n",
    "import pandas as pd\n",
    "from pipeline_setup import *\n",
    "import time\n",
    "from scipy.optimize import minimize"
   ]
  },
  {
   "cell_type": "code",
   "execution_count": 2,
   "id": "cd836a08-85e0-4058-908f-4c0dd103aa6b",
   "metadata": {
    "trusted": true
   },
   "outputs": [],
   "source": [
    "# Set file locations\n",
    "advanced_settings_url = \"https://docs.google.com/spreadsheets/d/e/2PACX-1vTanjc08kc5vIN-icUMzMEGA9bJuDesLX8V_u2Ab6zSC4MOhLZ8Jrr18DL9o4ofKIrSq6FsJXhPWu3F/pub?gid=0&single=true&output=csv\"\n",
    "\n",
    "# Read in emissions from other sectors\n",
    "sector_emissions_dict = set_sector_emissions_dict()\n",
    "# Read in the advanced settings from the google sheet\n",
    "params = read_advanced_settings(advanced_settings_url)\n",
    "# Set the datablock\n",
    "datablock_init = datablock_setup()\n",
    "\n",
    "# Set the scenario parameters\n",
    "params_baseline = set_baseline_scenario(params)\n",
    "\n",
    "# Also add the baseline parameters to the datablock\n",
    "datablock_init.update(params_baseline)"
   ]
  },
  {
   "cell_type": "code",
   "execution_count": 4,
   "id": "6ec79198-58a7-4331-8e61-4f2e6b228e92",
   "metadata": {
    "trusted": true
   },
   "outputs": [],
   "source": [
    "# Name the output parameters of the current calculator function \n",
    "# (ideally these would be set and returned by the calculator)\n",
    "z1_name = \"SSR weight\"\n",
    "z2_name = \"SSR prot\"\n",
    "z3_name = \"SSR fat\"\n",
    "z4_name = \"SSR kcal\"\n",
    "z5_name = \"emissions\"\n",
    "z6_name = \"herd size\"\n",
    "\n",
    "z_names = [z1_name, z2_name, z3_name, z4_name, z5_name, z6_name]\n",
    "\n",
    "# Name the params we are going to vary\n",
    "names_x = [\"ruminant\",\n",
    "           \"foresting_pasture\",\n",
    "           \"horticulture\",\n",
    "           \"land_BECCS\"]\n",
    "\n",
    "# Set the bounds for the optimisation - to be the same as for the grid\n",
    "# Make a 2d plot\n",
    "x_mins = (-50, 5, 0, 0)\n",
    "x_maxs = (50, 50, 200, 100)\n",
    "x_bounds = bounds=[(x_mins[i], x_maxs[i]) for i in range(len(names_x)) ] # todo make this nd"
   ]
  },
  {
   "cell_type": "code",
   "execution_count": 5,
   "id": "9521b2d2",
   "metadata": {},
   "outputs": [],
   "source": [
    "# Create an class with anobjective function suitable for giving to the scipy minimizer\n",
    "# Including a cache to avoid recomputing the same values\n",
    "class FFCObjectiveWithCache:\n",
    "    \"\"\"A class to compute the objective function and constraints for FFC optimization with caching.\n",
    "    Parameters:\n",
    "        names_x (list): List of parameter names to be optimized.\n",
    "        datablock_init (dict): Initial data block containing fixed parameters.\n",
    "        params_default (dict): Default parameters for the optimization.\n",
    "        sector_emissions_dict (dict): Dictionary containing emissions data for different sectors.\n",
    "        verbosity (int): Level of verbosity for output messages.\n",
    "    \"\"\"\n",
    "    def __init__(self, names_x, datablock_init, params_default, verbosity=0):\n",
    "        self.names_x = names_x\n",
    "        self.datablock_init = datablock_init\n",
    "        self.params_default = params_default\n",
    "        self._cache = {}\n",
    "        self.verbosity = verbosity\n",
    "\n",
    "        # Define the names of the z variables returned by the calculator\n",
    "        self.z_names = [\"SSR weight\",\n",
    "                   \"SSR prot\",\n",
    "                   \"SSR fat\",\n",
    "                   \"SSR kcal\",\n",
    "                   \"emissions\",\n",
    "                   \"herd size\"]\n",
    "\n",
    "    def _calculate(self, x_tuple, verbosity):\n",
    "        \n",
    "        x = list(x_tuple)\n",
    "        # Only recompute if not already cached\n",
    "        \n",
    "        if x_tuple not in self._cache:\n",
    "\n",
    "            # Update the parameters with the current values\n",
    "            params = self.params_default.copy()\n",
    "            for i_name, name_string in enumerate(self.names_x):\n",
    "                params[name_string] = x[i_name]\n",
    "            \n",
    "            # Perform the SSR and emissions calculation\n",
    "            z_val = run_calculator(self.datablock_init, params)\n",
    "\n",
    "            # cached dict\n",
    "            zval_dict = {zn: zv for zn, zv in zip(self.z_names, z_val)}\n",
    "\n",
    "            # Store the results in the cache\n",
    "            self._cache[x_tuple] = zval_dict\n",
    "\n",
    "            # Print out what's going on \n",
    "            if (verbosity > 1):\n",
    "                for i_name, name_string in enumerate(self.names_x):\n",
    "                    print(f\"{name_string} = {x[i_name]:.10f}; \", end=\"\")\n",
    "                for i_name, name_string in enumerate(list(self._cache[x_tuple].keys())):\n",
    "                    print(f\"{name_string} = {self._cache[x_tuple][name_string]:.10f}; \", end=\"\")\n",
    "                print()\n",
    "\n",
    "        return self._cache[x_tuple]\n",
    "\n",
    "    # Define the objective function for minimization\n",
    "    def objective(self, x, z_name_requested):\n",
    "        x_tuple = tuple(x)\n",
    "        return self._calculate(x_tuple, self.verbosity)[z_name_requested]\n",
    "\n",
    "    # Define the objective function for SSR constraint\n",
    "    def constraint_SSR(self, x, key, threshold):\n",
    "        x_tuple = tuple(x)\n",
    "        return self._calculate(x_tuple, self.verbosity)[key] - threshold\n",
    "    "
   ]
  },
  {
   "cell_type": "code",
   "execution_count": 6,
   "id": "25c44a75-6e9b-45e1-83a5-cd58629dd89d",
   "metadata": {
    "trusted": true
   },
   "outputs": [
    {
     "name": "stdout",
     "output_type": "stream",
     "text": [
      "SSR weight = 0.67366432; SSR prot = 0.73314955; SSR fat = 0.63337477; SSR kcal = 0.68543863; emissions = 94.77729174; herd size = 9151744.10648140; "
     ]
    }
   ],
   "source": [
    "# Do a test calculation\n",
    "z_val_baseline = run_calculator(datablock_init, params_baseline)\n",
    "#print(f\"SSR = {SSR_result:.8f}; GHG = {emissions_result:.8f}\")\n",
    "\n",
    "for zn, zval in zip(z_names, z_val_baseline):\n",
    "    print(f\"{zn} = {zval:.8f}; \", end=\"\")\n",
    "# This is my checksum for debugging: \n",
    "# SSR = 0.67366432; GHG = 94.22954995"
   ]
  },
  {
   "cell_type": "code",
   "execution_count": 7,
   "id": "2afc916e-db7d-4f4c-8cf6-50d3de09d51d",
   "metadata": {
    "trusted": true
   },
   "outputs": [],
   "source": [
    "# Set tolerances, verbosity, and options for the minimizer\n",
    "ffc_tol = 1e-6\n",
    "options = {\n",
    "    'disp': True,      # Show convergence messages\n",
    "    'maxiter': 100,     # Max number of iterations\n",
    "    'rhobeg' : 10 # Reasonable step size (mostly they are percentages, so change by 10%)\n",
    "}\n"
   ]
  },
  {
   "cell_type": "code",
   "execution_count": 8,
   "id": "45aeefc3",
   "metadata": {},
   "outputs": [
    {
     "name": "stdout",
     "output_type": "stream",
     "text": [
      "ruminant = 0.0000000000; foresting_pasture = 13.1700000000; horticulture = 0.0000000000; land_BECCS = 0.0000000000; SSR weight = 0.6736643225; SSR prot = 0.7331495528; SSR fat = 0.6333747730; SSR kcal = 0.6854386315; emissions = 94.7772917449; herd size = 9151744.1064814031; \n",
      "ruminant = 10.0000000000; foresting_pasture = 13.1700000000; horticulture = 0.0000000000; land_BECCS = 0.0000000000; SSR weight = 0.6728276606; SSR prot = 0.7317113340; SSR fat = 0.6317808633; SSR kcal = 0.6851689451; emissions = 96.0555846641; herd size = 9910109.0010977071; \n",
      "ruminant = 0.0000000000; foresting_pasture = 23.1700000000; horticulture = 0.0000000000; land_BECCS = 0.0000000000; SSR weight = 0.6160766353; SSR prot = 0.6633588104; SSR fat = 0.5484448061; SSR kcal = 0.6453296849; emissions = 77.0116113513; herd size = 6852993.6067655645; \n",
      "ruminant = 0.0000000000; foresting_pasture = 23.1700000000; horticulture = 10.0000000000; land_BECCS = 0.0000000000; SSR weight = 0.6225170535; SSR prot = 0.6623375483; SSR fat = 0.5462358743; SSR kcal = 0.6445868495; emissions = 77.0101040634; herd size = 6852993.6067655645; \n",
      "ruminant = 0.0000000000; foresting_pasture = 23.1700000000; horticulture = 10.0000000000; land_BECCS = 10.0000000000; SSR weight = 0.5774332481; SSR prot = 0.6169096460; SSR fat = 0.5169314312; SSR kcal = 0.5920853277; emissions = 60.3733425181; herd size = 6852993.6067655645; \n",
      "ruminant = -3.6062638003; foresting_pasture = 5.5518939261; horticulture = 5.3758602028; land_BECCS = 0.2438202795; SSR weight = 0.7328506104; SSR prot = 0.7952404589; SSR fat = 0.6935235894; SSR kcal = 0.7359487882; emissions = 109.3116433058; herd size = 10028224.0357432812; \n",
      "ruminant = -6.7676612452; foresting_pasture = 5.0000000000; horticulture = 12.4972085380; land_BECCS = 6.4878075615; SSR weight = 0.7121505350; SSR prot = 0.7694140312; SSR fat = 0.6774197495; SSR kcal = 0.7045481809; emissions = 98.9174043205; herd size = 9833624.1371093411; \n",
      "ruminant = -10.4869099154; foresting_pasture = 5.0000000000; horticulture = 21.6934042217; land_BECCS = 7.7516011670; SSR weight = 0.7123697065; SSR prot = 0.7630316088; SSR fat = 0.6721362728; SSR kcal = 0.6971336885; emissions = 96.1369254111; herd size = 9505548.2450414058; \n",
      "ruminant = -19.3557785173; foresting_pasture = 5.0000000000; horticulture = 26.3026474428; land_BECCS = 8.0647251857; SSR weight = 0.7149228300; SSR prot = 0.7626286629; SSR fat = 0.6717288260; SSR kcal = 0.6958086234; emissions = 94.2841330668; herd size = 8720169.8895875402; \n",
      "ruminant = -25.8428930880; foresting_pasture = 5.0000000000; horticulture = 33.9128315836; land_BECCS = 8.1141406734; SSR weight = 0.7203630130; SSR prot = 0.7627801941; SSR fat = 0.6710663167; SSR kcal = 0.6955366694; emissions = 93.2418733188; herd size = 8142984.2704242356; \n",
      "ruminant = -32.0796283779; foresting_pasture = 5.0000000000; horticulture = 41.6296024638; land_BECCS = 9.3609686911; SSR weight = 0.7197501975; SSR prot = 0.7569206548; SSR fat = 0.6664464262; SSR kcal = 0.6884615005; emissions = 90.0437839571; herd size = 7585877.8296014071; \n",
      "ruminant = -40.3281263667; foresting_pasture = 5.0000000000; horticulture = 47.1796542403; land_BECCS = 10.4376330807; SSR weight = 0.7186964142; SSR prot = 0.7522932294; SSR fat = 0.6629593018; SSR kcal = 0.6825696142; emissions = 86.7672944465; herd size = 6845730.6191007178; \n",
      "ruminant = -46.8999767333; foresting_pasture = 5.0000000000; horticulture = 54.6825281110; land_BECCS = 11.1571234822; SSR weight = 0.7203875045; SSR prot = 0.7489659365; SSR fat = 0.6599589536; SSR kcal = 0.6784297851; emissions = 84.3959143354; herd size = 6253301.3109952789; \n",
      "ruminant = -50.0000000000; foresting_pasture = 5.0000000000; horticulture = 64.0865934600; land_BECCS = 12.5547681649; SSR weight = 0.7192358890; SSR prot = 0.7416599021; SSR fat = 0.6540836654; SSR kcal = 0.6701523360; emissions = 81.3966123841; herd size = 5972995.3989141025; \n",
      "ruminant = -50.0000000000; foresting_pasture = 5.0000000000; horticulture = 74.0526407591; land_BECCS = 13.3781157419; SSR weight = 0.7209257598; SSR prot = 0.7366932210; SSR fat = 0.6495109513; SSR kcal = 0.6648676935; emissions = 79.9341266487; herd size = 5972995.3989141025; \n",
      "ruminant = -50.0000000000; foresting_pasture = 5.0000000000; horticulture = 83.9511447120; land_BECCS = 14.7992489143; SSR weight = 0.7192554168; SSR prot = 0.7288473509; SSR fat = 0.6431992537; SSR kcal = 0.6562686333; emissions = 77.4105074595; herd size = 5972995.3989141043; \n",
      "ruminant = -50.0000000000; foresting_pasture = 5.0000000000; horticulture = 93.9127660602; land_BECCS = 15.6745203669; SSR weight = 0.7203915418; SSR prot = 0.7236717637; SSR fat = 0.6385654832; SSR kcal = 0.6507255867; emissions = 75.8558662629; herd size = 5972995.3989141025; \n",
      "ruminant = -50.0000000000; foresting_pasture = 5.0000000000; horticulture = 103.8482696601; land_BECCS = 16.8084375664; SSR weight = 0.7199689143; SSR prot = 0.7172673931; SSR fat = 0.6332157429; SSR kcal = 0.6437608013; emissions = 73.8421505280; herd size = 5972995.3989141025; \n",
      "ruminant = -50.0000000000; foresting_pasture = 5.0000000000; horticulture = 113.7955447364; land_BECCS = 17.8339708702; SSR weight = 0.7200002833; SSR prot = 0.7114095862; SSR fat = 0.6282347526; SSR kcal = 0.6374145689; emissions = 72.0208428216; herd size = 5972995.3989141034; \n",
      "ruminant = -50.0000000000; foresting_pasture = 5.0000000000; horticulture = 123.7468843638; land_BECCS = 18.8192828101; SSR weight = 0.7201191746; SSR prot = 0.7057674801; SSR fat = 0.6234185447; SSR kcal = 0.6313071494; emissions = 70.2709582621; herd size = 5972995.3989141034; \n",
      "ruminant = -50.0000000000; foresting_pasture = 5.0000000000; horticulture = 133.6970853008; land_BECCS = 19.8160281710; SSR weight = 0.7200359455; SSR prot = 0.7000920499; SSR fat = 0.6186165048; SSR kcal = 0.6251519315; emissions = 68.5007801277; herd size = 5972995.3989141034; \n",
      "ruminant = -45.2769320597; foresting_pasture = 5.0000000000; horticulture = 133.8140168271; land_BECCS = 28.6295947731; SSR weight = 0.6692929971; SSR prot = 0.6572892024; SSR fat = 0.5927655027; SSR kcal = 0.5761564143; emissions = 53.6533182545; herd size = 6399837.8351827106; \n",
      "ruminant = -51.5718893505; foresting_pasture = 9.6701793503; horticulture = 133.6125915836; land_BECCS = 20.6595028405; SSR weight = 0.6813413700; SSR prot = 0.6611190443; SSR fat = 0.5816186866; SSR kcal = 0.5927543713; emissions = 59.2931824949; herd size = 5417644.0670651179; \n",
      "ruminant = -50.0000000000; foresting_pasture = 5.0000000000; horticulture = 143.6515120548; land_BECCS = 20.7696465427; SSR weight = 0.7200666334; SSR prot = 0.6946448026; SSR fat = 0.6139843014; SSR kcal = 0.6192505791; emissions = 66.8071948529; herd size = 5972995.3989141034; \n",
      "ruminant = -50.0000000000; foresting_pasture = 5.0000000000; horticulture = 153.6076432332; land_BECCS = 21.7053024402; SSR weight = 0.7200714381; SSR prot = 0.6893041204; SSR fat = 0.6094480303; SSR kcal = 0.6134632138; emissions = 65.1455002741; herd size = 5972995.3989141034; \n",
      "ruminant = -50.0000000000; foresting_pasture = 5.0000000000; horticulture = 163.5657852099; land_BECCS = 22.6193092084; SSR weight = 0.7200761068; SSR prot = 0.6840870443; SSR fat = 0.6050167530; SSR kcal = 0.6078097913; emissions = 63.5222659564; herd size = 5972995.3989141034; \n",
      "ruminant = -50.0000000000; foresting_pasture = 5.0000000000; horticulture = 173.5258141906; land_BECCS = 23.5125184246; SSR weight = 0.7200797461; SSR prot = 0.6789886815; SSR fat = 0.6006865022; SSR kcal = 0.6022849577; emissions = 61.9359617783; herd size = 5972995.3989141034; \n",
      "ruminant = -50.0000000000; foresting_pasture = 5.0000000000; horticulture = 183.4876368055; land_BECCS = 24.3854961953; SSR weight = 0.7200835489; SSR prot = 0.6740059852; SSR fat = 0.5964544402; SSR kcal = 0.5968854802; emissions = 60.3855746407; herd size = 5972995.3989141034; \n",
      "ruminant = -50.0000000000; foresting_pasture = 5.0000000000; horticulture = 193.4511395010; land_BECCS = 25.2390851106; SSR weight = 0.7200860813; SSR prot = 0.6691340124; SSR fat = 0.5923166706; SSR kcal = 0.5916059191; emissions = 58.8696457992; herd size = 5972995.3989141034; \n",
      "ruminant = -50.0000000000; foresting_pasture = 5.0000000000; horticulture = 200.0000000000; land_BECCS = 25.7808754921; SSR weight = 0.7201422380; SSR prot = 0.6660330091; SSR fat = 0.5896715262; SSR kcal = 0.5882486399; emissions = 57.9074263296; herd size = 5972995.3989141034; \n",
      "ruminant = -45.8757531228; foresting_pasture = 6.5739759792; horticulture = 200.1935912663; land_BECCS = 23.4408520447; SSR weight = 0.7225468099; SSR prot = 0.6650470481; SSR fat = 0.5841549480; SSR kcal = 0.5917256124; emissions = 60.2813824609; herd size = 6194485.6382853650; \n",
      "ruminant = -51.3678343196; foresting_pasture = 9.7457981012; horticulture = 199.9357941496; land_BECCS = 26.5569600660; SSR weight = 0.6808967455; SSR prot = 0.6280171196; SSR fat = 0.5534007955; SSR kcal = 0.5570823354; emissions = 49.0992059901; herd size = 5428128.0894756755; \n",
      "ruminant = -47.5262140412; foresting_pasture = 5.0000000000; horticulture = 199.6417470405; land_BECCS = 30.1112378150; SSR weight = 0.6929829499; SSR prot = 0.6453466929; SSR fat = 0.5777256682; SSR kcal = 0.5644229043; emissions = 50.6391772959; herd size = 6196718.8998715878; \n",
      "ruminant = -50.0000000000; foresting_pasture = 5.0000000000; horticulture = 198.7542558738; land_BECCS = 25.6778144809; SSR weight = 0.7201353160; SSR prot = 0.6666222645; SSR fat = 0.5901733713; SSR kcal = 0.5888868099; emissions = 58.0904668552; herd size = 5972995.3989141034; \n",
      "ruminant = -50.1709792900; foresting_pasture = 5.5932247626; horticulture = 199.9919742687; land_BECCS = 25.8778860639; SSR weight = 0.7153001690; SSR prot = 0.6612692335; SSR fat = 0.5851325410; SSR kcal = 0.5843380879; emissions = 56.8007102883; herd size = 5903929.1527568372; \n",
      "ruminant = -49.6907767551; foresting_pasture = 5.0000000000; horticulture = 199.9552183801; land_BECCS = 26.3221707825; SSR weight = 0.7167442983; SSR prot = 0.6634446929; SSR fat = 0.5881772173; SSR kcal = 0.5852693032; emissions = 56.9987651604; herd size = 6000975.3609966896; \n",
      "ruminant = -49.4844691404; foresting_pasture = 5.1967469974; horticulture = 200.0241989083; land_BECCS = 25.4883725612; SSR weight = 0.7205128474; SSR prot = 0.6659238907; SSR fat = 0.5889881442; SSR kcal = 0.5886990606; emissions = 58.2128264290; herd size = 6001693.0305528967; \n",
      "ruminant = -50.0000000000; foresting_pasture = 5.0000000000; horticulture = 199.8442819842; land_BECCS = 25.7679928657; SSR weight = 0.7201414978; SSR prot = 0.6661066717; SSR fat = 0.5897342354; SSR kcal = 0.5883284246; emissions = 57.9303291333; herd size = 5972995.3989141034; \n",
      "ruminant = -49.9613470944; foresting_pasture = 5.0000000000; horticulture = 199.9944022975; land_BECCS = 25.8485374034; SSR weight = 0.7197172735; SSR prot = 0.6657092952; SSR fat = 0.5894846588; SSR kcal = 0.5878760351; emissions = 57.7938532897; herd size = 5976493.5869571986; \n",
      "ruminant = -50.0213724112; foresting_pasture = 5.0741530953; horticulture = 199.9989967836; land_BECCS = 25.7930018136; SSR weight = 0.7195480427; SSR prot = 0.6654372626; SSR fat = 0.5891040377; SSR kcal = 0.5877594702; emissions = 57.7693475487; herd size = 5964347.6668322217; \n",
      "ruminant = -49.9355586425; foresting_pasture = 5.0245933747; horticulture = 200.0030248635; land_BECCS = 25.7443126258; SSR weight = 0.7201887160; SSR prot = 0.6660194983; SSR fat = 0.5895861245; SSR kcal = 0.5883051033; emissions = 57.9457203187; herd size = 5976597.7577352514; \n",
      "ruminant = -50.0000000000; foresting_pasture = 5.0000000000; horticulture = 199.9805352480; land_BECCS = 25.7792651638; SSR weight = 0.7201422481; SSR prot = 0.6660422942; SSR fat = 0.5896794089; SSR kcal = 0.5882587027; emissions = 57.9102962766; herd size = 5972995.3989141034; \n",
      "ruminant = -50.0026715514; foresting_pasture = 5.0092691369; horticulture = 199.9998745979; land_BECCS = 25.7823912823; SSR weight = 0.7200680556; SSR prot = 0.6659586396; SSR fat = 0.5896006937; SSR kcal = 0.5881875664; emissions = 57.8901743147; herd size = 5971915.5752182426; \n",
      "ruminant = -49.9919448303; foresting_pasture = 5.0030741718; horticulture = 200.0003781079; land_BECCS = 25.7763051339; SSR weight = 0.7201480434; SSR prot = 0.6660313285; SSR fat = 0.5896608633; SSR kcal = 0.5882557000; emissions = 57.9122232339; herd size = 5973446.1806781581; \n",
      "ruminant = -49.9951683868; foresting_pasture = 5.0000000000; horticulture = 199.9993002872; land_BECCS = 25.7893332311; SSR weight = 0.7200891610; SSR prot = 0.6659925826; SSR fat = 0.5896481871; SSR kcal = 0.5882021108; emissions = 57.8932372091; herd size = 5973432.6002987521; \n",
      "ruminant = -50.0000000000; foresting_pasture = 5.0000000000; horticulture = 200.0000000000; land_BECCS = 25.7715053893; SSR weight = 0.7202000307; SSR prot = 0.6660773180; SSR fat = 0.5896970104; SSR kcal = 0.5882999983; emissions = 57.9240700107; herd size = 5972995.3989141034; \n",
      "ruminant = -49.9997710539; foresting_pasture = 5.0000000000; horticulture = 199.9951225579; land_BECCS = 25.7715053893; SSR weight = 0.7201975338; SSR prot = 0.6660777230; SSR fat = 0.5896978660; SSR kcal = 0.5883003146; emissions = 57.9241091574; herd size = 5973015.9378032638; \n",
      "ruminant = -50.0008687056; foresting_pasture = 5.0022812611; horticulture = 199.9999592231; land_BECCS = 25.7715053893; SSR weight = 0.7201841286; SSR prot = 0.6660608406; SSR fat = 0.5896806283; SSR kcal = 0.5882870757; emissions = 57.9204475993; herd size = 5972710.2657518536; \n",
      "ruminant = -49.9988606240; foresting_pasture = 5.0004348310; horticulture = 200.0000534821; land_BECCS = 25.7715053893; SSR weight = 0.7201968423; SSR prot = 0.6660740005; SSR fat = 0.5896936992; SSR kcal = 0.5882974556; emissions = 57.9235922475; herd size = 5973058.2235816335; \n",
      "ruminant = -50.0000000000; foresting_pasture = 5.0000000000; horticulture = 200.0000000000; land_BECCS = 25.7727260924; SSR weight = 0.7201923838; SSR prot = 0.6660714552; SSR fat = 0.5896936385; SSR kcal = 0.5882932028; emissions = 57.9219023277; herd size = 5972995.3989141034; \n",
      "ruminant = -49.9999713817; foresting_pasture = 5.0000000000; horticulture = 199.9993903197; land_BECCS = 25.7715053893; SSR weight = 0.7201997173; SSR prot = 0.6660773691; SSR fat = 0.5896971202; SSR kcal = 0.5883000361; emissions = 57.9240756300; herd size = 5972998.0431784587; \n",
      "ruminant = -50.0001085882; foresting_pasture = 5.0002851576; horticulture = 199.9999949029; land_BECCS = 25.7715053893; SSR weight = 0.7201981941; SSR prot = 0.6660754083; SSR fat = 0.5896951032; SSR kcal = 0.5882985081; emissions = 57.9236308197; herd size = 5972961.3719267407; \n",
      "ruminant = -50.0000000000; foresting_pasture = 5.0000000000; horticulture = 200.0000000000; land_BECCS = 25.7716579772; SSR weight = 0.7201991484; SSR prot = 0.6660766415; SSR fat = 0.5896966214; SSR kcal = 0.5882992142; emissions = 57.9237978934; herd size = 5972995.3989141034; \n",
      "ruminant = -49.9998575780; foresting_pasture = 5.0000543539; horticulture = 200.0000066853; land_BECCS = 25.7715053893; SSR weight = 0.7201997214; SSR prot = 0.6660769801; SSR fat = 0.5896966536; SSR kcal = 0.5882997579; emissions = 57.9240199704; herd size = 5973003.6365949288; \n",
      "ruminant = -49.9999964227; foresting_pasture = 5.0000000000; horticulture = 199.9999237900; land_BECCS = 25.7715053893; SSR weight = 0.7201999915; SSR prot = 0.6660773244; SSR fat = 0.5896970242; SSR kcal = 0.5883000031; emissions = 57.9240706457; herd size = 5972995.7294471469; \n",
      "ruminant = -50.0000135735; foresting_pasture = 5.0000356447; horticulture = 199.9999993629; land_BECCS = 25.7715053893; SSR weight = 0.7201998036; SSR prot = 0.6660770802; SSR fat = 0.5896967700; SSR kcal = 0.5882998154; emissions = 57.9240211416; herd size = 5972991.0686333505; \n",
      "ruminant = -50.0000000000; foresting_pasture = 5.0000000000; horticulture = 200.0000000000; land_BECCS = 25.7715244628; SSR weight = 0.7201999204; SSR prot = 0.6660772334; SSR fat = 0.5896969618; SSR kcal = 0.5882999003; emissions = 57.9240409960; herd size = 5972995.3989141034; \n",
      "ruminant = -49.9999821972; foresting_pasture = 5.0000067942; horticulture = 200.0000008357; land_BECCS = 25.7715053893; SSR weight = 0.7201999780; SSR prot = 0.6660772551; SSR fat = 0.5896969332; SSR kcal = 0.5882999629; emissions = 57.9240595863; herd size = 5972995.8134017009; \n",
      "ruminant = -49.9999995528; foresting_pasture = 5.0000000000; horticulture = 199.9999904737; land_BECCS = 25.7715053893; SSR weight = 0.7202000258; SSR prot = 0.6660773188; SSR fat = 0.5896970121; SSR kcal = 0.5882999989; emissions = 57.9240700901; herd size = 5972995.4402307337; \n",
      "ruminant = -50.0000000000; foresting_pasture = 5.0000000000; horticulture = 200.0000000000; land_BECCS = 25.7715107008; SSR weight = 0.7201999939; SSR prot = 0.6660772898; SSR fat = 0.5896969942; SSR kcal = 0.5882999657; emissions = 57.9240643391; herd size = 5972995.3989141034; \n",
      "ruminant = -50.0000000000; foresting_pasture = 5.0000064765; horticulture = 200.0000000000; land_BECCS = 25.7715037005; SSR weight = 0.7201999772; SSR prot = 0.6660772544; SSR fat = 0.5896969325; SSR kcal = 0.5882999617; emissions = 57.9240649262; herd size = 5972994.1684670560; \n",
      "ruminant = -49.9999904683; foresting_pasture = 5.0000000000; horticulture = 200.0000000000; land_BECCS = 25.7715110104; SSR weight = 0.7201999942; SSR prot = 0.6660772902; SSR fat = 0.5896969947; SSR kcal = 0.5882999663; emissions = 57.9240660222; herd size = 5972996.2796237366; \n",
      "ruminant = -50.0000000000; foresting_pasture = 5.0000000000; horticulture = 199.9999976158; land_BECCS = 25.7715107008; SSR weight = 0.7201999927; SSR prot = 0.6660772900; SSR fat = 0.5896969946; SSR kcal = 0.5882999658; emissions = 57.9240643393; herd size = 5972995.3989141034; \n",
      "ruminant = -50.0000000000; foresting_pasture = 5.0000011921; horticulture = 200.0000000000; land_BECCS = 25.7715107008; SSR weight = 0.7201999939; SSR prot = 0.6660772898; SSR fat = 0.5896969942; SSR kcal = 0.5882999657; emissions = 57.9240627688; herd size = 5972995.3989141034; \n",
      "ruminant = -50.0000000000; foresting_pasture = 5.0000034102; horticulture = 200.0000000000; land_BECCS = 25.7715098266; SSR weight = 0.7201999772; SSR prot = 0.6660772544; SSR fat = 0.5896969325; SSR kcal = 0.5882999617; emissions = 57.9240573324; herd size = 5972994.1684670560; \n",
      "ruminant = -50.0000000000; foresting_pasture = 5.0000054765; horticulture = 200.0000000000; land_BECCS = 25.7715110161; SSR weight = 0.7201999772; SSR prot = 0.6660772544; SSR fat = 0.5896969325; SSR kcal = 0.5882999617; emissions = 57.9240544653; herd size = 5972994.1684670560; \n",
      "ruminant = -50.0000000014; foresting_pasture = 5.0000042871; horticulture = 200.0000000014; land_BECCS = 25.7715130824; SSR weight = 0.7201999036; SSR prot = 0.6660771980; SSR fat = 0.5896969000; SSR kcal = 0.5882998964; emissions = 57.9240446922; herd size = 5972994.1683408190; \n",
      "ruminant = -49.9999988079; foresting_pasture = 5.0000054762; horticulture = 200.0000000007; land_BECCS = 25.7715110167; SSR weight = 0.7201999772; SSR prot = 0.6660772544; SSR fat = 0.5896969325; SSR kcal = 0.5882999618; emissions = 57.9240546748; herd size = 5972994.2786137555; \n",
      "ruminant = -50.0000000000; foresting_pasture = 5.0000078101; horticulture = 200.0000000000; land_BECCS = 25.7715115047; SSR weight = 0.7201999036; SSR prot = 0.6660771980; SSR fat = 0.5896969000; SSR kcal = 0.5882998964; emissions = 57.9240485362; herd size = 5972994.1684670560; \n",
      "ruminant = -49.9999999993; foresting_pasture = 5.0000054762; horticulture = 199.9999988079; land_BECCS = 25.7715110167; SSR weight = 0.7201999766; SSR prot = 0.6660772544; SSR fat = 0.5896969327; SSR kcal = 0.5882999618; emissions = 57.9240544655; herd size = 5972994.1685320763; \n",
      "ruminant = -50.0000000000; foresting_pasture = 5.0000078100; horticulture = 200.0000000000; land_BECCS = 25.7715115052; SSR weight = 0.7201999036; SSR prot = 0.6660771980; SSR fat = 0.5896969000; SSR kcal = 0.5882998964; emissions = 57.9240485362; herd size = 5972994.1684670560; \n",
      "ruminant = -50.0000000000; foresting_pasture = 5.0000064286; horticulture = 200.0000000000; land_BECCS = 25.7715107100; SSR weight = 0.7201999772; SSR prot = 0.6660772544; SSR fat = 0.5896969325; SSR kcal = 0.5882999617; emissions = 57.9240529262; herd size = 5972994.1684670560; \n",
      "ruminant = -49.9999990003; foresting_pasture = 5.0000064286; horticulture = 200.0000000228; land_BECCS = 25.7715107100; SSR weight = 0.7201999772; SSR prot = 0.6660772544; SSR fat = 0.5896969325; SSR kcal = 0.5882999618; emissions = 57.9240531019; herd size = 5972994.2608408341; \n",
      "ruminant = -49.9999980003; foresting_pasture = 5.0000064286; horticulture = 200.0000000228; land_BECCS = 25.7715107100; SSR weight = 0.7201999772; SSR prot = 0.6660772544; SSR fat = 0.5896969326; SSR kcal = 0.5882999619; emissions = 57.9240532777; herd size = 5972994.3532386161; \n",
      "ruminant = -49.9999970003; foresting_pasture = 5.0000064286; horticulture = 200.0000000227; land_BECCS = 25.7715107100; SSR weight = 0.7201999773; SSR prot = 0.6660772545; SSR fat = 0.5896969326; SSR kcal = 0.5882999619; emissions = 57.9240534534; herd size = 5972994.4456363972; \n",
      "ruminant = -49.9999960003; foresting_pasture = 5.0000064286; horticulture = 200.0000000227; land_BECCS = 25.7715107101; SSR weight = 0.7201999773; SSR prot = 0.6660772545; SSR fat = 0.5896969327; SSR kcal = 0.5882999620; emissions = 57.9240536604; herd size = 5972994.5380341783; \n",
      "ruminant = -49.9999950003; foresting_pasture = 5.0000064285; horticulture = 200.0000000227; land_BECCS = 25.7715107101; SSR weight = 0.7201999773; SSR prot = 0.6660772546; SSR fat = 0.5896969327; SSR kcal = 0.5882999621; emissions = 57.9240538362; herd size = 5972994.6304319594; \n",
      "ruminant = -49.9999940003; foresting_pasture = 5.0000064285; horticulture = 200.0000000227; land_BECCS = 25.7715107101; SSR weight = 0.7201999773; SSR prot = 0.6660772546; SSR fat = 0.5896969328; SSR kcal = 0.5882999621; emissions = 57.9240540119; herd size = 5972994.7228297386; \n",
      "ruminant = -49.9999930003; foresting_pasture = 5.0000064285; horticulture = 200.0000000226; land_BECCS = 25.7715107101; SSR weight = 0.7201999774; SSR prot = 0.6660772547; SSR fat = 0.5896969328; SSR kcal = 0.5882999622; emissions = 57.9240541877; herd size = 5972994.8152275188; \n",
      "ruminant = -49.9999920003; foresting_pasture = 5.0000064285; horticulture = 200.0000000226; land_BECCS = 25.7715107101; SSR weight = 0.7201999774; SSR prot = 0.6660772547; SSR fat = 0.5896969329; SSR kcal = 0.5882999623; emissions = 57.9240543634; herd size = 5972994.9076252989; \n",
      "ruminant = -49.9999910003; foresting_pasture = 5.0000064286; horticulture = 200.0000000226; land_BECCS = 25.7715107101; SSR weight = 0.7201999774; SSR prot = 0.6660772547; SSR fat = 0.5896969329; SSR kcal = 0.5882999623; emissions = 57.9240545392; herd size = 5972995.0000230772; \n",
      "ruminant = -49.9999900003; foresting_pasture = 5.0000064285; horticulture = 200.0000000226; land_BECCS = 25.7715107101; SSR weight = 0.7201999774; SSR prot = 0.6660772548; SSR fat = 0.5896969330; SSR kcal = 0.5882999624; emissions = 57.9240547149; herd size = 5972995.0924208574; \n",
      "ruminant = -49.9999890003; foresting_pasture = 5.0000064285; horticulture = 200.0000000225; land_BECCS = 25.7715107102; SSR weight = 0.7201999775; SSR prot = 0.6660772548; SSR fat = 0.5896969330; SSR kcal = 0.5882999625; emissions = 57.9240548907; herd size = 5972995.1848186394; \n",
      "ruminant = -49.9999880003; foresting_pasture = 5.0000064285; horticulture = 200.0000000225; land_BECCS = 25.7715107101; SSR weight = 0.7201999775; SSR prot = 0.6660772549; SSR fat = 0.5896969331; SSR kcal = 0.5882999625; emissions = 57.9240550664; herd size = 5972995.2772164196; \n",
      "ruminant = -49.9999870003; foresting_pasture = 5.0000064285; horticulture = 200.0000000225; land_BECCS = 25.7715107102; SSR weight = 0.7201999775; SSR prot = 0.6660772549; SSR fat = 0.5896969331; SSR kcal = 0.5882999626; emissions = 57.9240552422; herd size = 5972995.3696141988; \n",
      "ruminant = -49.9999860003; foresting_pasture = 5.0000064286; horticulture = 200.0000000225; land_BECCS = 25.7715107101; SSR weight = 0.7201999775; SSR prot = 0.6660772550; SSR fat = 0.5896969332; SSR kcal = 0.5882999627; emissions = 57.9240554180; herd size = 5972995.4620119771; \n",
      "ruminant = -49.9999850003; foresting_pasture = 5.0000064285; horticulture = 200.0000000224; land_BECCS = 25.7715107102; SSR weight = 0.7201999776; SSR prot = 0.6660772550; SSR fat = 0.5896969332; SSR kcal = 0.5882999627; emissions = 57.9240555937; herd size = 5972995.5544097591; \n",
      "ruminant = -49.9999840003; foresting_pasture = 5.0000064286; horticulture = 200.0000000224; land_BECCS = 25.7715107100; SSR weight = 0.7201999776; SSR prot = 0.6660772551; SSR fat = 0.5896969333; SSR kcal = 0.5882999628; emissions = 57.9240557695; herd size = 5972995.6468075393; \n",
      "ruminant = -49.9999830003; foresting_pasture = 5.0000064285; horticulture = 200.0000000224; land_BECCS = 25.7715107102; SSR weight = 0.7201999776; SSR prot = 0.6660772551; SSR fat = 0.5896969333; SSR kcal = 0.5882999629; emissions = 57.9240559452; herd size = 5972995.7392053148; \n",
      "ruminant = -49.9999820003; foresting_pasture = 5.0000064285; horticulture = 200.0000000224; land_BECCS = 25.7715107103; SSR weight = 0.7201999776; SSR prot = 0.6660772551; SSR fat = 0.5896969334; SSR kcal = 0.5882999629; emissions = 57.9240561210; herd size = 5972995.8316030959; \n",
      "ruminant = -49.9999810003; foresting_pasture = 5.0000064285; horticulture = 200.0000000223; land_BECCS = 25.7715107102; SSR weight = 0.7201999777; SSR prot = 0.6660772552; SSR fat = 0.5896969334; SSR kcal = 0.5882999630; emissions = 57.9240562967; herd size = 5972995.9240008779; \n",
      "ruminant = -49.9999800003; foresting_pasture = 5.0000064285; horticulture = 200.0000000223; land_BECCS = 25.7715107102; SSR weight = 0.7201999777; SSR prot = 0.6660772552; SSR fat = 0.5896969335; SSR kcal = 0.5882999631; emissions = 57.9240564725; herd size = 5972996.0163986571; \n",
      "ruminant = -49.9999790003; foresting_pasture = 5.0000064286; horticulture = 200.0000000223; land_BECCS = 25.7715107101; SSR weight = 0.7201999777; SSR prot = 0.6660772553; SSR fat = 0.5896969336; SSR kcal = 0.5882999631; emissions = 57.9240566482; herd size = 5972996.1087964382; \n",
      "ruminant = -49.9999780003; foresting_pasture = 5.0000064285; horticulture = 200.0000000223; land_BECCS = 25.7715107102; SSR weight = 0.7201999777; SSR prot = 0.6660772553; SSR fat = 0.5896969336; SSR kcal = 0.5882999632; emissions = 57.9240568240; herd size = 5972996.2011942193; \n",
      "ruminant = -49.9999770003; foresting_pasture = 5.0000064285; horticulture = 200.0000000222; land_BECCS = 25.7715107102; SSR weight = 0.7201999778; SSR prot = 0.6660772554; SSR fat = 0.5896969337; SSR kcal = 0.5882999633; emissions = 57.9240569997; herd size = 5972996.2935919967; \n",
      "ruminant = -49.9999760003; foresting_pasture = 5.0000064284; horticulture = 200.0000000222; land_BECCS = 25.7715107104; SSR weight = 0.7201999778; SSR prot = 0.6660772554; SSR fat = 0.5896969337; SSR kcal = 0.5882999633; emissions = 57.9240571755; herd size = 5972996.3859897749; \n",
      "ruminant = -49.9999750003; foresting_pasture = 5.0000064285; horticulture = 200.0000000222; land_BECCS = 25.7715107102; SSR weight = 0.7201999778; SSR prot = 0.6660772555; SSR fat = 0.5896969338; SSR kcal = 0.5882999634; emissions = 57.9240573513; herd size = 5972996.4783875551; \n",
      "ruminant = -49.9999740003; foresting_pasture = 5.0000064285; horticulture = 200.0000000222; land_BECCS = 25.7715107102; SSR weight = 0.7201999778; SSR prot = 0.6660772555; SSR fat = 0.5896969338; SSR kcal = 0.5882999635; emissions = 57.9240575270; herd size = 5972996.5707853353; \n",
      "ruminant = -49.9999730003; foresting_pasture = 5.0000064283; horticulture = 200.0000000221; land_BECCS = 25.7715107105; SSR weight = 0.7201999779; SSR prot = 0.6660772555; SSR fat = 0.5896969339; SSR kcal = 0.5882999635; emissions = 57.9240577028; herd size = 5972996.6631831117; \n",
      "ruminant = -49.9999720003; foresting_pasture = 5.0000064284; horticulture = 200.0000000221; land_BECCS = 25.7715107104; SSR weight = 0.7201999779; SSR prot = 0.6660772556; SSR fat = 0.5896969339; SSR kcal = 0.5882999636; emissions = 57.9240578785; herd size = 5972996.7555808919; \n",
      "\n",
      "   Return from subroutine COBYLA because the MAXFUN limit has been reached.\n",
      "\n",
      "   NFVALS =  100   F = 5.792406E+01    MAXCV = 2.211399E-08\n",
      "   X =-4.999997E+01   5.000006E+00   2.000000E+02   2.577151E+01\n"
     ]
    }
   ],
   "source": [
    "ffc_wrapper = FFCObjectiveWithCache(names_x, datablock_init, params_baseline, verbosity=2)\n",
    "\n",
    "z_name_requested = \"emissions\"\n",
    "x0 = [params_baseline[n] for n in names_x]\n",
    "ffc_constraints = [{'type': 'ineq', 'fun': lambda x: ffc_wrapper.constraint_SSR(x, \"SSR weight\", threshold=0.7202)}]\n",
    "\n",
    "result = minimize(\n",
    "    lambda x: ffc_wrapper.objective(x, z_name_requested),\n",
    "    x0,\n",
    "    method='COBYLA',\n",
    "    bounds=x_bounds,\n",
    "    constraints=ffc_constraints,\n",
    "    tol=ffc_tol,\n",
    "    options=options\n",
    ")"
   ]
  },
  {
   "cell_type": "code",
   "execution_count": 9,
   "id": "94b2178d-2b45-4177-a0bb-0497b8d94334",
   "metadata": {
    "scrolled": true,
    "trusted": true
   },
   "outputs": [
    {
     "data": {
      "text/plain": [
       " message: Maximum number of function evaluations has been exceeded.\n",
       " success: False\n",
       "  status: 2\n",
       "     fun: 57.92405787851277\n",
       "       x: [-5.000e+01  5.000e+00  2.000e+02  2.577e+01]\n",
       "    nfev: 100\n",
       "   maxcv: 2.211399119378399e-08"
      ]
     },
     "execution_count": 9,
     "metadata": {},
     "output_type": "execute_result"
    }
   ],
   "source": [
    "result"
   ]
  },
  {
   "cell_type": "code",
   "execution_count": 10,
   "id": "32393df1-b4cf-4dd4-8fd3-4ff06beeb265",
   "metadata": {
    "trusted": true
   },
   "outputs": [
    {
     "name": "stdout",
     "output_type": "stream",
     "text": [
      "Optimization success: False\n",
      "Message: Maximum number of function evaluations has been exceeded.\n",
      "Number of iterations: 100\n",
      "Optimal value of x: [-49.999972     5.00000643 200.00000002  25.77151071]\n",
      "Minimum value of function: 57.92405787851277\n"
     ]
    }
   ],
   "source": [
    "# The result is an OptimizeResult object\n",
    "print(\"Optimization success:\", result.success)\n",
    "print(\"Message:\", result.message)\n",
    "print(\"Number of iterations:\", result.nfev)\n",
    "print(\"Optimal value of x:\", result.x)\n",
    "print(\"Minimum value of function:\", result.fun)"
   ]
  },
  {
   "cell_type": "code",
   "execution_count": 11,
   "id": "ed4e0960-6b25-4553-a3db-862243550c8f",
   "metadata": {
    "trusted": true
   },
   "outputs": [
    {
     "name": "stdout",
     "output_type": "stream",
     "text": [
      "[-49.999972     5.00000643 200.00000002  25.77151071]\n",
      "57.92405787851277\n",
      "False\n"
     ]
    }
   ],
   "source": [
    "print(result['x'])      # Optimal parameters\n",
    "print(result['fun'])    # Minimum value of the objective\n",
    "print(result['success'])  # Boolean indicating if it was successful"
   ]
  },
  {
   "cell_type": "code",
   "execution_count": 12,
   "id": "87e65c83-987f-44da-922f-75b9f6d7a912",
   "metadata": {
    "trusted": true
   },
   "outputs": [
    {
     "name": "stdout",
     "output_type": "stream",
     "text": [
      "SSR weight = 0.72019998; emissions = 57.92405788\n"
     ]
    }
   ],
   "source": [
    "# Display the results\n",
    "#z1_val, z2_val = list(ffc_results.values())[:2]\n",
    "z1_val = ffc_wrapper.objective(result.x, \"SSR weight\")\n",
    "z2_val = ffc_wrapper.objective(result.x, \"emissions\")\n",
    "print(f\"SSR weight = {z1_val:.8f}; emissions = {z2_val:.8f}\")\n"
   ]
  },
  {
   "cell_type": "code",
   "execution_count": null,
   "id": "ffea2197",
   "metadata": {},
   "outputs": [],
   "source": []
  }
 ],
 "metadata": {
  "kernelspec": {
   "display_name": "st_consultation",
   "language": "python",
   "name": "python3"
  },
  "language_info": {
   "codemirror_mode": {
    "name": "ipython",
    "version": 3
   },
   "file_extension": ".py",
   "mimetype": "text/x-python",
   "name": "python",
   "nbconvert_exporter": "python",
   "pygments_lexer": "ipython3",
   "version": "3.10.16"
  }
 },
 "nbformat": 4,
 "nbformat_minor": 5
}
