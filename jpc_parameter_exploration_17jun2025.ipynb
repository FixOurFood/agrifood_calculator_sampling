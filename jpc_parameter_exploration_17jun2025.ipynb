{
 "cells": [
  {
   "cell_type": "code",
   "execution_count": 1,
   "id": "3c8c4881-d9f6-4fd4-915a-0a5e56baf664",
   "metadata": {
    "trusted": true
   },
   "outputs": [],
   "source": [
    "import matplotlib.pyplot as plt\n",
    "import xarray as xr\n",
    "import numpy as np\n",
    "from scipy.ndimage import zoom\n",
    "import pandas as pd\n",
    "from pipeline_setup import *\n",
    "import time\n",
    "from scipy.optimize import minimize"
   ]
  },
  {
   "cell_type": "code",
   "execution_count": 2,
   "id": "cd836a08-85e0-4058-908f-4c0dd103aa6b",
   "metadata": {
    "trusted": true
   },
   "outputs": [],
   "source": [
    "# Set file locations\n",
    "advanced_settings_url = \"https://docs.google.com/spreadsheets/d/e/2PACX-1vTanjc08kc5vIN-icUMzMEGA9bJuDesLX8V_u2Ab6zSC4MOhLZ8Jrr18DL9o4ofKIrSq6FsJXhPWu3F/pub?gid=0&single=true&output=csv\"\n",
    "\n",
    "# Read in emissions from other sectors\n",
    "sector_emissions_dict = set_sector_emissions_dict()\n",
    "# Read in the advanced settings from the google sheet\n",
    "params = read_advanced_settings(advanced_settings_url)\n",
    "# Set the datablock\n",
    "datablock_init = datablock_setup()\n",
    "\n",
    "# Set the scenario parameters\n",
    "params_baseline = set_baseline_scenario(params)\n",
    "\n",
    "# Also add the baseline parameters to the datablock\n",
    "datablock_init.update(params_baseline)"
   ]
  },
  {
   "cell_type": "code",
   "execution_count": 3,
   "id": "6ec79198-58a7-4331-8e61-4f2e6b228e92",
   "metadata": {
    "trusted": true
   },
   "outputs": [],
   "source": [
    "# Name the output parameters of the current calculator function \n",
    "# (ideally these would be set and returned by the calculator)\n",
    "z1_name = \"SSR\"\n",
    "z2_name = \"emissions\"\n",
    "\n",
    "# Name the params we are going to vary\n",
    "name1 = \"horticulture\"\n",
    "name2 = \"foresting_pasture\""
   ]
  },
  {
   "cell_type": "code",
   "execution_count": 4,
   "id": "25c44a75-6e9b-45e1-83a5-cd58629dd89d",
   "metadata": {
    "trusted": true
   },
   "outputs": [
    {
     "name": "stdout",
     "output_type": "stream",
     "text": [
      "Node 1 (Node 1) executed in 0.1288 seconds.\n",
      "Node 2 (Node 2) executed in 0.3349 seconds.\n",
      "Node 3 (Node 3) executed in 0.2001 seconds.\n",
      "Node 4 (Node 4) executed in 0.1691 seconds.\n",
      "Node 5 (Node 5) executed in 0.0727 seconds.\n",
      "Node 6 (Node 6) executed in 0.0858 seconds.\n",
      "Node 7 (Node 7) executed in 0.1786 seconds.\n",
      "Node 8 (Node 8) executed in 0.0731 seconds.\n",
      "Node 9 (Node 9) executed in 0.0695 seconds.\n",
      "Node 10 (Node 10) executed in 0.0212 seconds.\n",
      "Node 11 (Node 11) executed in 0.0245 seconds.\n",
      "Node 12 (Node 12) executed in 0.0788 seconds.\n",
      "Node 13 (Node 13) executed in 0.0826 seconds.\n",
      "Node 14 (Node 14) executed in 0.0472 seconds.\n",
      "Node 15 (Node 15) executed in 0.0369 seconds.\n",
      "Node 16 (Node 16) executed in 0.1301 seconds.\n",
      "Node 17 (Node 17) executed in 0.1258 seconds.\n",
      "Node 18 (Node 18) executed in 0.0042 seconds.\n",
      "Node 19 (Node 19) executed in 0.0028 seconds.\n",
      "Node 20 (Node 20) executed in 0.0737 seconds.\n",
      "Node 21 (Node 21) executed in 0.0039 seconds.\n",
      "Node 22 (Node 22) executed in 0.0030 seconds.\n",
      "Node 23 (Node 23) executed in 0.0060 seconds.\n",
      "Node 24 (Node 24) executed in 0.0089 seconds.\n",
      "Node 25 (Node 25) executed in 0.0792 seconds.\n",
      "Node 26 (Node 26) executed in 0.1022 seconds.\n",
      "Node 27 (Node 27) executed in 0.0119 seconds.\n",
      "Node 28 (Node 28) executed in 0.0052 seconds.\n",
      "Node 29 (Node 29) executed in 0.0092 seconds.\n",
      "Node 30 (Node 30) executed in 0.0939 seconds.\n",
      "Node 31 (Node 31) executed in 0.0654 seconds.\n",
      "Node 32 (Node 32) executed in 0.0047 seconds.\n",
      "Node 33 (Node 33) executed in 0.4617 seconds.\n",
      "Pipeline executed in 2.7972 seconds.\n",
      "SSR = 0.67366432; emissions = 94.77729174\n"
     ]
    }
   ],
   "source": [
    "# Do a test calculation\n",
    "z1_val_baseline, z2_val_baseline = SSR_emissions(datablock_init, params_baseline, timing=True)\n",
    "#print(f\"SSR = {SSR_result:.8f}; GHG = {emissions_result:.8f}\")\n",
    "print(f\"{z1_name} = {z1_val_baseline:.8f}; {z2_name} = {z2_val_baseline:.8f}\")\n",
    "# This is my checksum for debugging: \n",
    "# SSR = 0.67366432; GHG = 94.22954995"
   ]
  },
  {
   "cell_type": "code",
   "execution_count": 5,
   "id": "9521b2d2",
   "metadata": {},
   "outputs": [],
   "source": [
    "# Create an class with anobjective function suitable for giving to the scipy minimizer\n",
    "# Including a cache to avoid recomputing the same values\n",
    "class FFCObjectiveWithCache:\n",
    "    \"\"\"A class to compute the objective function and constraints for FFC optimization with caching.\n",
    "    Parameters:\n",
    "        names_x (list): List of parameter names to be optimized.\n",
    "        datablock_init (dict): Initial data block containing fixed parameters.\n",
    "        params_default (dict): Default parameters for the optimization.\n",
    "        sector_emissions_dict (dict): Dictionary containing emissions data for different sectors.\n",
    "        verbosity (int): Level of verbosity for output messages.\n",
    "    \"\"\"\n",
    "    def __init__(self, names_x, datablock_init, params_default, verbosity=0):\n",
    "        self.names_x = names_x\n",
    "        self.datablock_init = datablock_init\n",
    "        self.params_default = params_default\n",
    "        # self.sector_emissions_dict = sector_emissions_dict\n",
    "        self._cache = {}\n",
    "        self.verbosity = verbosity\n",
    "\n",
    "    def _calculate(self, x_tuple, verbosity):\n",
    "        \n",
    "        x = list(x_tuple)\n",
    "        # Only recompute if not already cached\n",
    "        \n",
    "        if x_tuple not in self._cache:\n",
    "\n",
    "            # Update the parameters with the current values\n",
    "            params = self.params_default.copy()\n",
    "            for i_name, name_string in enumerate(self.names_x):\n",
    "                params[name_string] = x[i_name]\n",
    "            \n",
    "            # Perform the SSR and emissions calculation\n",
    "            SSR_val, emissions_val = SSR_emissions(self.datablock_init, params)\n",
    "\n",
    "            # Store the results in the cache\n",
    "            self._cache[x_tuple] = {'SSR': SSR_val, 'emissions': emissions_val}\n",
    "\n",
    "        # Print out what's going on \n",
    "        if (verbosity > 1):\n",
    "            for i_name, name_string in enumerate(self.names_x):\n",
    "                print(f\"{name_string} = {x[i_name]:.10f}; \", end=\"\")\n",
    "            for i_name, name_string in enumerate(list(self._cache[x_tuple].keys())):\n",
    "                print(f\"{name_string} = {self._cache[x_tuple][name_string]:.10f}; \", end=\"\")\n",
    "            print()\n",
    "\n",
    "        return self._cache[x_tuple]\n",
    "\n",
    "    # Define the objective function for minimization\n",
    "    def objective(self, x, z_name_requested):\n",
    "        x_tuple = tuple(x)\n",
    "        return self._calculate(x_tuple, self.verbosity)[z_name_requested]\n",
    "\n",
    "    # Define the objective function for SSR constraint\n",
    "    def constraint_SSR(self, x, SSR_threshold):\n",
    "        x_tuple = tuple(x)\n",
    "        return self._calculate(x_tuple, self.verbosity)['SSR'] - SSR_threshold\n",
    "    "
   ]
  },
  {
   "cell_type": "code",
   "execution_count": 6,
   "id": "de8797bf-a91e-4f3b-bb8e-ff4ae0ca5300",
   "metadata": {
    "trusted": true
   },
   "outputs": [
    {
     "name": "stdout",
     "output_type": "stream",
     "text": [
      "horticulture = 0.00000000; foresting_pasture = 13.17000000\n"
     ]
    }
   ],
   "source": [
    "# Do a test calculation using the new objective function\n",
    "names_x = (name1, name2)\n",
    "ffc_wrapper = FFCObjectiveWithCache(names_x, datablock_init, params_baseline, verbosity=2)\n",
    "\n",
    "x = (params_baseline[names_x[0]], params_baseline[names_x[1]])\n",
    "print(f\"{names_x[0]} = {x[0]:.8f}; {names_x[1]} = {x[1]:.8f}\")"
   ]
  },
  {
   "cell_type": "code",
   "execution_count": 7,
   "id": "a67d4ae9-6c2b-469a-a379-84465a7eb979",
   "metadata": {
    "trusted": true
   },
   "outputs": [
    {
     "name": "stdout",
     "output_type": "stream",
     "text": [
      "horticulture = 0.0000000000; foresting_pasture = 13.1700000000; SSR = 0.6736643225; emissions = 94.7772917449; \n",
      "horticulture = 0.0000000000; foresting_pasture = 13.1700000000; SSR = 0.6736643225; emissions = 94.7772917449; \n",
      "SSR = 0.67366432; emissions = 94.77729174\n"
     ]
    }
   ],
   "source": [
    "z1_val = ffc_wrapper.objective(x, z1_name)\n",
    "z2_val = ffc_wrapper.objective(x, z2_name)\n",
    "#fun, ffc_results = ffc_objective(x, names_x, \"emissions\", datablock_init, params_baseline)\n",
    "#ffc_results\n",
    "# This is my checksum for debugging: \n",
    "# SSR = 0.67366432; GHG = 94.22954995\n",
    "\n",
    "# Check I can extract them in the old format\n",
    "#z1_val, z2_val = list(ffc_results.values())[:2]\n",
    "#z1_val\n",
    "#z2_val\n",
    "print(f\"{z1_name} = {z1_val:.8f}; {z2_name} = {z2_val:.8f}\")"
   ]
  },
  {
   "cell_type": "code",
   "execution_count": 8,
   "id": "73cd97db-e8ae-4a06-9d86-c43a91c9db7f",
   "metadata": {
    "trusted": true
   },
   "outputs": [
    {
     "name": "stdout",
     "output_type": "stream",
     "text": [
      "horticulture = 0.0000000000; foresting_pasture = 15.0000000000; SSR = 0.6631258000; emissions = 91.5135343266; \n",
      "horticulture = 0.0000000000; foresting_pasture = 15.0000000000; SSR = 0.6631258000; emissions = 91.5135343266; \n",
      "horticulture = 0.0000000000; foresting_pasture = 23.7500000000; SSR = 0.6127364319; emissions = 75.9822309869; \n",
      "horticulture = 0.0000000000; foresting_pasture = 23.7500000000; SSR = 0.6127364319; emissions = 75.9822309869; \n",
      "horticulture = 0.0000000000; foresting_pasture = 32.5000000000; SSR = 0.5623472551; emissions = 60.4532072798; \n",
      "horticulture = 0.0000000000; foresting_pasture = 32.5000000000; SSR = 0.5623472551; emissions = 60.4532072798; \n",
      "horticulture = 0.0000000000; foresting_pasture = 41.2500000000; SSR = 0.5119580237; emissions = 44.9243850527; \n",
      "horticulture = 0.0000000000; foresting_pasture = 41.2500000000; SSR = 0.5119580237; emissions = 44.9243850527; \n",
      "horticulture = 0.0000000000; foresting_pasture = 50.0000000000; SSR = 0.4615687991; emissions = 29.3955791405; \n",
      "horticulture = 0.0000000000; foresting_pasture = 50.0000000000; SSR = 0.4615687991; emissions = 29.3955791405; \n",
      "Done i1 =  0 of  4; eta = 0.71 minutes\n",
      "horticulture = 66.6666666667; foresting_pasture = 15.0000000000; SSR = 0.7060619213; emissions = 91.5034857403; \n",
      "horticulture = 66.6666666667; foresting_pasture = 15.0000000000; SSR = 0.7060619213; emissions = 91.5034857403; \n",
      "horticulture = 66.6666666667; foresting_pasture = 23.7500000000; SSR = 0.6556725532; emissions = 75.9721824007; \n",
      "horticulture = 66.6666666667; foresting_pasture = 23.7500000000; SSR = 0.6556725532; emissions = 75.9721824007; \n",
      "horticulture = 66.6666666667; foresting_pasture = 32.5000000000; SSR = 0.6052833764; emissions = 60.4431586936; \n",
      "horticulture = 66.6666666667; foresting_pasture = 32.5000000000; SSR = 0.6052833764; emissions = 60.4431586936; \n",
      "horticulture = 66.6666666667; foresting_pasture = 41.2500000000; SSR = 0.5548941450; emissions = 44.9143364664; \n",
      "horticulture = 66.6666666667; foresting_pasture = 41.2500000000; SSR = 0.5548941450; emissions = 44.9143364664; \n",
      "horticulture = 66.6666666667; foresting_pasture = 50.0000000000; SSR = 0.5045049204; emissions = 29.3855305543; \n",
      "horticulture = 66.6666666667; foresting_pasture = 50.0000000000; SSR = 0.5045049204; emissions = 29.3855305543; \n",
      "Done i1 =  1 of  4; eta = 0.47 minutes\n",
      "horticulture = 133.3333333333; foresting_pasture = 15.0000000000; SSR = 0.7489980426; emissions = 91.4934371541; \n",
      "horticulture = 133.3333333333; foresting_pasture = 15.0000000000; SSR = 0.7489980426; emissions = 91.4934371541; \n",
      "horticulture = 133.3333333333; foresting_pasture = 23.7500000000; SSR = 0.6986086745; emissions = 75.9621338144; \n",
      "horticulture = 133.3333333333; foresting_pasture = 23.7500000000; SSR = 0.6986086745; emissions = 75.9621338144; \n",
      "horticulture = 133.3333333333; foresting_pasture = 32.5000000000; SSR = 0.6482194977; emissions = 60.4331101073; \n",
      "horticulture = 133.3333333333; foresting_pasture = 32.5000000000; SSR = 0.6482194977; emissions = 60.4331101073; \n",
      "horticulture = 133.3333333333; foresting_pasture = 41.2500000000; SSR = 0.5978302663; emissions = 44.9042878802; \n",
      "horticulture = 133.3333333333; foresting_pasture = 41.2500000000; SSR = 0.5978302663; emissions = 44.9042878802; \n",
      "horticulture = 133.3333333333; foresting_pasture = 50.0000000000; SSR = 0.5474410417; emissions = 29.3754819680; \n",
      "horticulture = 133.3333333333; foresting_pasture = 50.0000000000; SSR = 0.5474410417; emissions = 29.3754819680; \n",
      "Done i1 =  2 of  4; eta = 0.23 minutes\n",
      "horticulture = 200.0000000000; foresting_pasture = 15.0000000000; SSR = 0.7919341639; emissions = 91.4833885678; \n",
      "horticulture = 200.0000000000; foresting_pasture = 15.0000000000; SSR = 0.7919341639; emissions = 91.4833885678; \n",
      "horticulture = 200.0000000000; foresting_pasture = 23.7500000000; SSR = 0.7415447958; emissions = 75.9520852282; \n",
      "horticulture = 200.0000000000; foresting_pasture = 23.7500000000; SSR = 0.7415447958; emissions = 75.9520852282; \n",
      "horticulture = 200.0000000000; foresting_pasture = 32.5000000000; SSR = 0.6911556191; emissions = 60.4230615211; \n",
      "horticulture = 200.0000000000; foresting_pasture = 32.5000000000; SSR = 0.6911556191; emissions = 60.4230615211; \n",
      "horticulture = 200.0000000000; foresting_pasture = 41.2500000000; SSR = 0.6407663876; emissions = 44.8942392939; \n",
      "horticulture = 200.0000000000; foresting_pasture = 41.2500000000; SSR = 0.6407663876; emissions = 44.8942392939; \n",
      "horticulture = 200.0000000000; foresting_pasture = 50.0000000000; SSR = 0.5903771630; emissions = 29.3654333818; \n",
      "horticulture = 200.0000000000; foresting_pasture = 50.0000000000; SSR = 0.5903771630; emissions = 29.3654333818; \n",
      "Done i1 =  3 of  4; eta = 0.00 minutes\n",
      "time_per_function_call = 2.82 seconds\n"
     ]
    }
   ],
   "source": [
    "# Make a 2d plot\n",
    "ns = (4, 5)\n",
    "x_mins = (0, 15)\n",
    "x_maxs = (200, 50)\n",
    "\n",
    "# Now make the arrays\n",
    "x1_vals = np.linspace(x_mins[0], x_maxs[0], ns[0])\n",
    "x2_vals = np.linspace(x_mins[1], x_maxs[1], ns[1])\n",
    "z1_mat = np.empty((ns[0], ns[1]))\n",
    "z2_mat = np.empty((ns[0], ns[1]))\n",
    "x1_mat = np.empty((ns[0], ns[1]))\n",
    "x2_mat = np.empty((ns[0], ns[1]))\n",
    "\n",
    "# Initialise for the loop\n",
    "#params = params_baseline.copy()\n",
    "starttime = time.time()\n",
    "#args = (names_x, datablock_init, params, sector_emissions_dict)\n",
    "\n",
    "# Loop over a grid in 2 of the parameters as specified \n",
    "for i1, x1_val in enumerate(x1_vals):\n",
    "    #params[name1] = x1_val\n",
    "\n",
    "    for i2, x2_val in enumerate(x2_vals):\n",
    "        #params[name2] = x2_val\n",
    "\n",
    "        #z1_val, z2_val = SSR_emissions(datablock_init, params, sector_emissions_dict)\n",
    "        x = (x1_val, x2_val)\n",
    "        #fun, ffc_results = ffc_objective(x, names_x, datablock_init, params_baseline, sector_emissions_dict)\n",
    "        #z1_val, z2_val = list(ffc_results.values())[:2]\n",
    "        # z1_val = ffc_objective(x, names_x, z1_name, datablock_init, params_baseline, sector_emissions_dict)\n",
    "        # z2_val = ffc_objective(x, names_x, z2_name, datablock_init, params_baseline, sector_emissions_dict)\n",
    "        z1_val = ffc_wrapper.objective(x, z1_name)\n",
    "        z2_val = ffc_wrapper.objective(x, z2_name)\n",
    "        z1_mat[i1, i2] = z1_val\n",
    "        z2_mat[i1, i2] = z2_val\n",
    "        x1_mat[i1, i2] = x1_val\n",
    "        x2_mat[i1, i2] = x2_val\n",
    "\n",
    "    lasttime = time.time()\n",
    "    duration = lasttime - starttime\n",
    "    eta = (duration / (i1+1) * (ns[0]-i1-1))/60\n",
    "    print(f\"Done i1 = {i1:2} of {ns[0]:2}; eta = {eta:.2f} minutes\")\n",
    "\n",
    "totaltime = time.time()\n",
    "time_per_function_call = (totaltime - starttime) / (ns[0] * ns[1])\n",
    "print(f\"time_per_function_call = {time_per_function_call:.2f} seconds\")"
   ]
  },
  {
   "cell_type": "code",
   "execution_count": 9,
   "id": "97f3706d-820f-4fd3-bc9e-8aaafe1efb75",
   "metadata": {
    "trusted": true
   },
   "outputs": [],
   "source": [
    "# Interpolate the outputs\n",
    "ni = 100 # Factor by which to interpolate\n",
    "z1_mati = zoom(z1_mat, zoom=ni, order=3)  # cubic interpolation\n",
    "z2_mati = zoom(z2_mat, zoom=ni, order=3)  # cubic interpolation\n",
    "x1_mati = zoom(x1_mat, zoom=ni, order=3)  # cubic interpolation\n",
    "x2_mati = zoom(x2_mat, zoom=ni, order=3)  # cubic interpolation"
   ]
  },
  {
   "cell_type": "code",
   "execution_count": 10,
   "id": "a4127c6c-f614-48a8-92de-a46b72dc95a3",
   "metadata": {
    "trusted": true
   },
   "outputs": [],
   "source": [
    "# cut all values where the SSR went below today's value\n",
    "SSR_threshold = 0.7202\n",
    "emissions_fill_value = 94.23\n",
    "#SSR_masked_resultsi = np.ma.masked_less(SSR_resultsi, SSR_threshold)"
   ]
  },
  {
   "cell_type": "code",
   "execution_count": 11,
   "id": "3cf07d03-decb-48cd-a77b-231a1cb1558f",
   "metadata": {
    "trusted": true
   },
   "outputs": [],
   "source": [
    "# create a mask using the constraint on SSR\n",
    "indices_mask = np.where(z1_mati < SSR_threshold)\n",
    "z1_mati_mask = z1_mati.copy()\n",
    "z2_mati_mask = z2_mati.copy()\n",
    "z1_mati_mask[indices_mask] = 1\n",
    "z2_mati_mask[indices_mask] = emissions_fill_value"
   ]
  },
  {
   "cell_type": "code",
   "execution_count": 12,
   "id": "a2498a95-1fdb-4681-aa54-35c09099b709",
   "metadata": {
    "trusted": true
   },
   "outputs": [
    {
     "name": "stdout",
     "output_type": "stream",
     "text": [
      "horticulture = [200.]; foresting_pasture = [27.39692937]; emissions = [69.47939269]; SSR = [0.72054297]\n"
     ]
    }
   ],
   "source": [
    "# Find the minimum emissions where SSR is greater than today\n",
    "indices_best = np.where(z2_mati_mask == np.min(z2_mati_mask))\n",
    "x1_best = x1_mati[indices_best]\n",
    "x2_best = x2_mati[indices_best]\n",
    "z1_best = z1_mati[indices_best]\n",
    "z2_best = z2_mati[indices_best]\n",
    "print(f\"{name1} = {x1_best}; {name2} = {x2_best}; {z2_name} = {z2_best}; {z1_name} = {z1_best}\")\n",
    "# horticulture = [171.40442831]; foresting_pasture = [50.]; emissions = [41.85509712]; SSR = [0.72069789]\n",
    "# or with new values for sequestration:\n",
    "# horticulture = [171.40442831]; foresting_pasture = [50.]; emissions = [0.93579712]; SSR = [0.72069789]"
   ]
  },
  {
   "cell_type": "code",
   "execution_count": 13,
   "id": "d4bd5a0a-2f2a-4fce-a205-ff877a384228",
   "metadata": {
    "trusted": true
   },
   "outputs": [
    {
     "data": {
      "text/plain": [
       "Text(0.5, 0, 'foresting_pasture')"
      ]
     },
     "execution_count": 13,
     "metadata": {},
     "output_type": "execute_result"
    },
    {
     "data": {
      "image/png": "[encoded data removed]",
      "text/plain": [
       "<Figure size 640x480 with 2 Axes>"
      ]
     },
     "metadata": {},
     "output_type": "display_data"
    }
   ],
   "source": [
    "# Plot the resulting SSR w mask\n",
    "plt.imshow(z1_mati_mask, cmap='viridis', interpolation='nearest', extent=[x_mins[1], x_maxs[1], x_mins[0], x_maxs[0]], origin='lower', aspect='auto')\n",
    "plt.plot(x2_best, x1_best, marker='x', color='red', markersize=10)\n",
    "plt.colorbar(label=z1_name)\n",
    "plt.ylabel(name1)\n",
    "plt.xlabel(name2)"
   ]
  },
  {
   "cell_type": "code",
   "execution_count": 14,
   "id": "97bff4ea-82f8-40e1-ab44-0e63e8ecc982",
   "metadata": {
    "trusted": true
   },
   "outputs": [
    {
     "data": {
      "text/plain": [
       "Text(0.5, 0, 'foresting_pasture')"
      ]
     },
     "execution_count": 14,
     "metadata": {},
     "output_type": "execute_result"
    },
    {
     "data": {
      "image/png": "[encoded data removed]",
      "text/plain": [
       "<Figure size 640x480 with 2 Axes>"
      ]
     },
     "metadata": {},
     "output_type": "display_data"
    }
   ],
   "source": [
    "# Plot the resulting emissions\n",
    "plt.imshow(z2_mati, cmap='viridis', interpolation='nearest', extent=[x_mins[1], x_maxs[1], x_mins[0], x_maxs[0]], origin='lower', aspect='auto')\n",
    "plt.plot(x2_best, x1_best, marker='x', color='red', markersize=10)\n",
    "plt.colorbar(label=z2_name)\n",
    "plt.ylabel(name1)\n",
    "plt.xlabel(name2)"
   ]
  },
  {
   "cell_type": "code",
   "execution_count": 15,
   "id": "cc3bc1be-5f24-48ad-9963-03570586d0fe",
   "metadata": {
    "trusted": true
   },
   "outputs": [
    {
     "data": {
      "text/plain": [
       "Text(0.5, 0, 'foresting_pasture')"
      ]
     },
     "execution_count": 15,
     "metadata": {},
     "output_type": "execute_result"
    },
    {
     "data": {
      "image/png": "[encoded data removed]",
      "text/plain": [
       "<Figure size 640x480 with 2 Axes>"
      ]
     },
     "metadata": {},
     "output_type": "display_data"
    }
   ],
   "source": [
    "# Plot the resulting emissions, w mask\n",
    "plt.imshow(z2_mati_mask, cmap='viridis', interpolation='nearest', extent=[x_mins[1], x_maxs[1], x_mins[0], x_maxs[0]], origin='lower', aspect='auto')\n",
    "plt.plot(x2_best, x1_best, marker='x', color='red', markersize=10)\n",
    "plt.colorbar(label=z2_name)\n",
    "plt.ylabel(name1)\n",
    "plt.xlabel(name2)"
   ]
  },
  {
   "cell_type": "code",
   "execution_count": 16,
   "id": "2b7c6204-58ea-4e6b-b3e4-0b592fcfd0bd",
   "metadata": {
    "trusted": true
   },
   "outputs": [],
   "source": [
    "# Set the bounds for the optimisation - to be the same as for the grid\n",
    "x_bounds = bounds=[(x_mins[0], x_maxs[0]), (x_mins[1], x_maxs[1])] # todo make this nd"
   ]
  },
  {
   "cell_type": "code",
   "execution_count": 17,
   "id": "2afc916e-db7d-4f4c-8cf6-50d3de09d51d",
   "metadata": {
    "trusted": true
   },
   "outputs": [],
   "source": [
    "# Set tolerances, verbosity, and options for the minimizer\n",
    "ffc_tol = 1e-6\n",
    "options = {\n",
    "    'disp': True,      # Show convergence messages\n",
    "    'maxiter': 100,     # Max number of iterations\n",
    "    'rhobeg' : 10 # Reasonable step size (mostly they are percentages, so change by 10%)\n",
    "}\n"
   ]
  },
  {
   "cell_type": "code",
   "execution_count": 18,
   "id": "45aeefc3",
   "metadata": {},
   "outputs": [
    {
     "name": "stdout",
     "output_type": "stream",
     "text": [
      "horticulture = 0.0000000000; foresting_pasture = 13.1700000000; SSR = 0.6736643225; emissions = 94.7772917449; \n",
      "horticulture = 0.0000000000; foresting_pasture = 13.1700000000; SSR = 0.6736643225; emissions = 94.7772917449; \n",
      "horticulture = 0.0000000000; foresting_pasture = 13.1700000000; SSR = 0.6736643225; emissions = 94.7772917449; \n",
      "horticulture = 10.0000000000; foresting_pasture = 13.1700000000; SSR = 0.6801047407; emissions = 94.7757844570; \n",
      "horticulture = 10.0000000000; foresting_pasture = 13.1700000000; SSR = 0.6801047407; emissions = 94.7757844570; \n",
      "horticulture = 10.0000000000; foresting_pasture = 23.1700000000; SSR = 0.6225170535; emissions = 77.0101040634; \n",
      "horticulture = 10.0000000000; foresting_pasture = 23.1700000000; SSR = 0.6225170535; emissions = 77.0101040634; \n",
      "horticulture = 15.6996436837; foresting_pasture = 14.9533059033; SSR = 0.6735058369; emissions = 91.5940959657; \n",
      "horticulture = 15.6996436837; foresting_pasture = 14.9533059033; SSR = 0.6735058369; emissions = 91.5940959657; \n",
      "horticulture = 25.6996416336; foresting_pasture = 14.9597092617; SSR = 0.6799093400; emissions = 91.5812099152; \n",
      "horticulture = 25.6996416336; foresting_pasture = 14.9597092617; SSR = 0.6799093400; emissions = 91.5812099152; \n",
      "horticulture = 35.6996395833; foresting_pasture = 14.9661128420; SSR = 0.6863129389; emissions = 91.5683384622; \n",
      "horticulture = 35.6996395833; foresting_pasture = 14.9661128420; SSR = 0.6863129389; emissions = 91.5683384622; \n",
      "horticulture = 45.6996375329; foresting_pasture = 14.9725165371; SSR = 0.6927164558; emissions = 91.5554509167; \n",
      "horticulture = 45.6996375329; foresting_pasture = 14.9725165371; SSR = 0.6927164558; emissions = 91.5554509167; \n",
      "horticulture = 55.6996354827; foresting_pasture = 14.9789199741; SSR = 0.6991200000; emissions = 91.5425700687; \n",
      "horticulture = 55.6996354827; foresting_pasture = 14.9789199741; SSR = 0.6991200000; emissions = 91.5425700687; \n",
      "horticulture = 65.6996334324; foresting_pasture = 14.9853235434; SSR = 0.7055237355; emissions = 91.5297136032; \n",
      "horticulture = 65.6996334324; foresting_pasture = 14.9853235434; SSR = 0.7055237355; emissions = 91.5297136032; \n",
      "horticulture = 75.6996313819; foresting_pasture = 14.9917274690; SSR = 0.7119271977; emissions = 91.5168177252; \n",
      "horticulture = 75.6996313819; foresting_pasture = 14.9917274690; SSR = 0.7119271977; emissions = 91.5168177252; \n",
      "horticulture = 85.6996293319; foresting_pasture = 14.9981306641; SSR = 0.7183306872; emissions = 91.5039361071; \n",
      "horticulture = 85.6996293319; foresting_pasture = 14.9981306641; SSR = 0.7183306872; emissions = 91.5039361071; \n",
      "horticulture = 95.6683526627; foresting_pasture = 15.7884186835; SSR = 0.7201999185; emissions = 90.0990639826; \n",
      "horticulture = 95.6683526627; foresting_pasture = 15.7884186835; SSR = 0.7201999185; emissions = 90.0990639826; \n",
      "horticulture = 105.6063962588; foresting_pasture = 16.8998544586; SSR = 0.7201998662; emissions = 88.1244486194; \n",
      "horticulture = 105.6063962588; foresting_pasture = 16.8998544586; SSR = 0.7201998662; emissions = 88.1244486194; \n",
      "horticulture = 115.5444434253; foresting_pasture = 18.0112583082; SSR = 0.7202001305; emissions = 86.1501734956; \n",
      "horticulture = 115.5444434253; foresting_pasture = 18.0112583082; SSR = 0.7202001305; emissions = 86.1501734956; \n",
      "horticulture = 125.4824830197; foresting_pasture = 19.1227298636; SSR = 0.7201999116; emissions = 84.1758913229; \n",
      "horticulture = 125.4824830197; foresting_pasture = 19.1227298636; SSR = 0.7201999116; emissions = 84.1758913229; \n",
      "horticulture = 135.4205285094; foresting_pasture = 20.2341487070; SSR = 0.7201999698; emissions = 82.2017691244; \n",
      "horticulture = 135.4205285094; foresting_pasture = 20.2341487070; SSR = 0.7201999698; emissions = 82.2017691244; \n",
      "horticulture = 145.3585734623; foresting_pasture = 21.3455723501; SSR = 0.7202000140; emissions = 80.2276845460; \n",
      "horticulture = 145.3585734623; foresting_pasture = 21.3455723501; SSR = 0.7202000140; emissions = 80.2276845460; \n",
      "horticulture = 155.2966172994; foresting_pasture = 22.4570059703; SSR = 0.7202000575; emissions = 78.2536187177; \n",
      "horticulture = 155.2966172994; foresting_pasture = 22.4570059703; SSR = 0.7202000575; emissions = 78.2536187177; \n",
      "horticulture = 165.2346592004; foresting_pasture = 23.5684569019; SSR = 0.7201999767; emissions = 76.2795307197; \n",
      "horticulture = 165.2346592004; foresting_pasture = 23.5684569019; SSR = 0.7201999767; emissions = 76.2795307197; \n",
      "horticulture = 175.1727030977; foresting_pasture = 24.6798899843; SSR = 0.7201999792; emissions = 74.3054985014; \n",
      "horticulture = 175.1727030977; foresting_pasture = 24.6798899843; SSR = 0.7201999792; emissions = 74.3054985014; \n",
      "horticulture = 185.1107473453; foresting_pasture = 25.7913199337; SSR = 0.7202000366; emissions = 72.3314758030; \n",
      "horticulture = 185.1107473453; foresting_pasture = 25.7913199337; SSR = 0.7202000366; emissions = 72.3314758030; \n",
      "horticulture = 195.0487897892; foresting_pasture = 26.9027660108; SSR = 0.7202000655; emissions = 70.3574433450; \n",
      "horticulture = 195.0487897892; foresting_pasture = 26.9027660108; SSR = 0.7202000655; emissions = 70.3574433450; \n",
      "horticulture = 194.4930667507; foresting_pasture = 31.8717872328; SSR = 0.6912266700; emissions = 61.5388060382; \n",
      "horticulture = 194.4930667507; foresting_pasture = 31.8717872328; SSR = 0.6912266700; emissions = 61.5388060382; \n",
      "horticulture = 200.0000000000; foresting_pasture = 27.4565109929; SSR = 0.7202000070; emissions = 69.3739524730; \n",
      "horticulture = 200.0000000000; foresting_pasture = 27.4565109929; SSR = 0.7202000070; emissions = 69.3739524730; \n",
      "horticulture = 199.8610658002; foresting_pasture = 28.6987659136; SSR = 0.7129565158; emissions = 67.1692710643; \n",
      "horticulture = 199.8610658002; foresting_pasture = 28.6987659136; SSR = 0.7129565158; emissions = 67.1692710643; \n",
      "horticulture = 199.3788725396; foresting_pasture = 27.3870438930; SSR = 0.7201999575; emissions = 69.4973223904; \n",
      "horticulture = 199.3788725396; foresting_pasture = 27.3870438930; SSR = 0.7201999575; emissions = 69.4973223904; \n",
      "horticulture = 199.9826332250; foresting_pasture = 27.6117928580; SSR = 0.7192944202; emissions = 69.0983486794; \n",
      "horticulture = 199.9826332250; foresting_pasture = 27.6117928580; SSR = 0.7192944202; emissions = 69.0983486794; \n",
      "horticulture = 199.9223590675; foresting_pasture = 27.4478276054; SSR = 0.7201999820; emissions = 69.3893675964; \n",
      "horticulture = 199.9223590675; foresting_pasture = 27.4478276054; SSR = 0.7201999820; emissions = 69.3893675964; \n",
      "horticulture = 199.9978291531; foresting_pasture = 27.4759212260; SSR = 0.7200867471; emissions = 69.3394927263; \n",
      "horticulture = 199.9978291531; foresting_pasture = 27.4759212260; SSR = 0.7200867471; emissions = 69.3394927263; \n",
      "horticulture = 199.9902948834; foresting_pasture = 27.4554255694; SSR = 0.7201999611; emissions = 69.3758754572; \n",
      "horticulture = 199.9902948834; foresting_pasture = 27.4554255694; SSR = 0.7201999611; emissions = 69.3758754572; \n",
      "horticulture = 199.9997286441; foresting_pasture = 27.4589372720; SSR = 0.7201857145; emissions = 69.3696292209; \n",
      "horticulture = 199.9997286441; foresting_pasture = 27.4589372720; SSR = 0.7201857145; emissions = 69.3696292209; \n",
      "horticulture = 199.9987868604; foresting_pasture = 27.4563753149; SSR = 0.7201999500; emissions = 69.3741865460; \n",
      "horticulture = 199.9987868604; foresting_pasture = 27.4563753149; SSR = 0.7201999500; emissions = 69.3741865460; \n",
      "horticulture = 199.9999660805; foresting_pasture = 27.4568142778; SSR = 0.7201981538; emissions = 69.3734030577; \n",
      "horticulture = 199.9999660805; foresting_pasture = 27.4568142778; SSR = 0.7201981538; emissions = 69.3734030577; \n",
      "horticulture = 199.9998483576; foresting_pasture = 27.4564940331; SSR = 0.7201999776; emissions = 69.3739796459; \n",
      "horticulture = 199.9998483576; foresting_pasture = 27.4564940331; SSR = 0.7201999776; emissions = 69.3739796459; \n",
      "horticulture = 199.9999957601; foresting_pasture = 27.4565489035; SSR = 0.7201998129; emissions = 69.3738841536; \n",
      "horticulture = 199.9999957601; foresting_pasture = 27.4565489035; SSR = 0.7201998129; emissions = 69.3738841536; \n",
      "horticulture = 199.9999810447; foresting_pasture = 27.4565088729; SSR = 0.7201999948; emissions = 69.3739549759; \n",
      "horticulture = 199.9999810447; foresting_pasture = 27.4565088729; SSR = 0.7201999948; emissions = 69.3739549759; \n",
      "horticulture = 199.9999994700; foresting_pasture = 27.4565157317; SSR = 0.7201999656; emissions = 69.3739400831; \n",
      "horticulture = 199.9999994700; foresting_pasture = 27.4565157317; SSR = 0.7201999656; emissions = 69.3739400831; \n",
      "horticulture = 199.9999976306; foresting_pasture = 27.4565107279; SSR = 0.7202000054; emissions = 69.3739524734; \n",
      "horticulture = 199.9999976306; foresting_pasture = 27.4565107279; SSR = 0.7202000054; emissions = 69.3739524734; \n",
      "horticulture = 200.0000000000; foresting_pasture = 27.4565118086; SSR = 0.7201999933; emissions = 69.3739478430; \n",
      "horticulture = 200.0000000000; foresting_pasture = 27.4565118086; SSR = 0.7201999933; emissions = 69.3739478430; \n",
      "horticulture = 199.9999995000; foresting_pasture = 27.4565118086; SSR = 0.7201999930; emissions = 69.3739478431; \n",
      "horticulture = 199.9999995000; foresting_pasture = 27.4565118086; SSR = 0.7201999930; emissions = 69.3739478431; \n",
      "\n",
      "   Normal return from subroutine COBYLA\n",
      "\n",
      "   NFVALS =   40   F = 6.937395E+01    MAXCV = 6.696213E-09\n",
      "   X = 2.000000E+02   2.745651E+01\n"
     ]
    }
   ],
   "source": [
    "ffc_wrapper = FFCObjectiveWithCache(names_x, datablock_init, params_baseline, verbosity=2)\n",
    "\n",
    "z_name_requested = \"emissions\"\n",
    "x0 = [params_baseline[n] for n in names_x]\n",
    "ffc_constraints = [{'type': 'ineq', 'fun': lambda x: ffc_wrapper.constraint_SSR(x, SSR_threshold=0.7202)}]\n",
    "\n",
    "result = minimize(\n",
    "    lambda x: ffc_wrapper.objective(x, z_name_requested),\n",
    "    x0,\n",
    "    method='COBYLA',\n",
    "    bounds=x_bounds,\n",
    "    constraints=ffc_constraints,\n",
    "    tol=ffc_tol,\n",
    "    options=options\n",
    ")"
   ]
  },
  {
   "cell_type": "code",
   "execution_count": 19,
   "id": "94b2178d-2b45-4177-a0bb-0497b8d94334",
   "metadata": {
    "scrolled": true,
    "trusted": true
   },
   "outputs": [
    {
     "data": {
      "text/plain": [
       " message: Optimization terminated successfully.\n",
       " success: True\n",
       "  status: 1\n",
       "     fun: 69.3739478430083\n",
       "       x: [ 2.000e+02  2.746e+01]\n",
       "    nfev: 40\n",
       "   maxcv: 6.696212806467372e-09"
      ]
     },
     "execution_count": 19,
     "metadata": {},
     "output_type": "execute_result"
    }
   ],
   "source": [
    "result"
   ]
  },
  {
   "cell_type": "code",
   "execution_count": 20,
   "id": "32393df1-b4cf-4dd4-8fd3-4ff06beeb265",
   "metadata": {
    "trusted": true
   },
   "outputs": [
    {
     "name": "stdout",
     "output_type": "stream",
     "text": [
      "Optimization success: True\n",
      "Message: Optimization terminated successfully.\n",
      "Number of iterations: 40\n",
      "Optimal value of x: [200.          27.45651181]\n",
      "Minimum value of function: 69.3739478430083\n"
     ]
    }
   ],
   "source": [
    "# The result is an OptimizeResult object\n",
    "print(\"Optimization success:\", result.success)\n",
    "print(\"Message:\", result.message)\n",
    "print(\"Number of iterations:\", result.nfev)\n",
    "print(\"Optimal value of x:\", result.x)\n",
    "print(\"Minimum value of function:\", result.fun)"
   ]
  },
  {
   "cell_type": "code",
   "execution_count": 21,
   "id": "ed4e0960-6b25-4553-a3db-862243550c8f",
   "metadata": {
    "trusted": true
   },
   "outputs": [
    {
     "name": "stdout",
     "output_type": "stream",
     "text": [
      "[200.          27.45651181]\n",
      "69.3739478430083\n",
      "True\n"
     ]
    }
   ],
   "source": [
    "print(result['x'])      # Optimal parameters\n",
    "print(result['fun'])    # Minimum value of the objective\n",
    "print(result['success'])  # Boolean indicating if it was successful"
   ]
  },
  {
   "cell_type": "code",
   "execution_count": 22,
   "id": "87e65c83-987f-44da-922f-75b9f6d7a912",
   "metadata": {
    "trusted": true
   },
   "outputs": [
    {
     "name": "stdout",
     "output_type": "stream",
     "text": [
      "horticulture = 200.0000000000; foresting_pasture = 27.4565118086; SSR = 0.7201999933; emissions = 69.3739478430; \n",
      "horticulture = 200.0000000000; foresting_pasture = 27.4565118086; SSR = 0.7201999933; emissions = 69.3739478430; \n",
      "SSR = 0.72019999; emissions = 69.37394784\n"
     ]
    }
   ],
   "source": [
    "# Display the results\n",
    "#z1_val, z2_val = list(ffc_results.values())[:2]\n",
    "z1_val = ffc_wrapper.objective(result.x, z1_name)\n",
    "z2_val = ffc_wrapper.objective(result.x, z2_name)\n",
    "print(f\"{z1_name} = {z1_val:.8f}; {z2_name} = {z2_val:.8f}\")\n"
   ]
  }
 ],
 "metadata": {
  "kernelspec": {
   "display_name": "st_consultation",
   "language": "python",
   "name": "python3"
  },
  "language_info": {
   "codemirror_mode": {
    "name": "ipython",
    "version": 3
   },
   "file_extension": ".py",
   "mimetype": "text/x-python",
   "name": "python",
   "nbconvert_exporter": "python",
   "pygments_lexer": "ipython3",
   "version": "3.10.16"
  }
 },
 "nbformat": 4,
 "nbformat_minor": 5
}
