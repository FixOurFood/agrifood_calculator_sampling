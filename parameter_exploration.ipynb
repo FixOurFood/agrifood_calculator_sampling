{
 "cells": [
  {
   "cell_type": "code",
   "execution_count": 1,
   "id": "94b30713",
   "metadata": {},
   "outputs": [],
   "source": [
    "from agrifoodpy.pipeline import Pipeline\n",
    "from datablock_setup import datablock_setup\n",
    "from pipeline_setup import pipeline_setup\n",
    "import matplotlib.pyplot as plt\n",
    "import xarray as xr\n",
    "import copy\n",
    "import numpy as np\n",
    "import pandas as pd"
   ]
  },
  {
   "cell_type": "code",
   "execution_count": 2,
   "id": "12e59d76",
   "metadata": {},
   "outputs": [],
   "source": [
    "sector_emissions_dict = {\n",
    "    \"F-gases\":1.60,\n",
    "    \"Waste\":5.11,\n",
    "    \"Shipping\":0.51,\n",
    "    \"Aviation\":22.67,\n",
    "    \"LU sources\":20.82, # Sum of 2025 land use sources\n",
    "    \"Agriculture\":0, # Set to be calculated by the model\n",
    "    \"Fuel supply\":1.57, \n",
    "    \"Electricity\":1.00,\n",
    "    \"Manufacturing\":3.57,\n",
    "    \"Buildings\":1.11, # Sum of residential and non-residential\n",
    "    \"Transport\":1.07,\n",
    "    \"LU sinks\":0, # Set to be calculated by the model\n",
    "    \"Removals\":0, # Set to be calculated by the model\n",
    "}\n"
   ]
  },
  {
   "cell_type": "code",
   "execution_count": 3,
   "id": "65a04abf",
   "metadata": {},
   "outputs": [
    {
     "data": {
      "text/plain": [
       "{'labmeat_co2e': 2.2,\n",
       " 'dairy_alternatives_co2e': 0.31,\n",
       " 'rda_kcal': 2250.0,\n",
       " 'n_scale': 20.0,\n",
       " 'bdleaf_seq_ha_yr': 1.3,\n",
       " 'conif_seq_ha_yr': 11.2,\n",
       " 'peatland_seq_ha_yr': 20.0,\n",
       " 'managed_arable_seq_ha_yr': 2.0,\n",
       " 'managed_pasture_seq_ha_yr': 2.0,\n",
       " 'mixed_farming_seq_ha_yr': 2.0,\n",
       " 'beccs_crops_seq_ha_yr': 23.5,\n",
       " 'dairy_herd_grazing': 0.05,\n",
       " 'dairy_herd_beef': 0.52,\n",
       " 'horticulture_land_ratio': 0.086,\n",
       " 'pulse_land_ratio': 0.033,\n",
       " 'mixed_farming_production_scale': 0.93,\n",
       " 'mixed_farming_secondary_production_scale': 0.9,\n",
       " 'agroecology_tree_coverage': 0.1,\n",
       " 'nitrogen_prod_factor': 0.0,\n",
       " 'nitrogen_ghg_factor': 0.1,\n",
       " 'manure_prod_factor': 0.0,\n",
       " 'manure_ghg_factor': 0.07,\n",
       " 'breeding_prod_factor': 0.0,\n",
       " 'breeding_ghg_factor': 0.08,\n",
       " 'methane_prod_factor': 0.0,\n",
       " 'methane_ghg_factor': 0.13,\n",
       " 'fossil_livestock_prod_factor': 0.0,\n",
       " 'fossil_livestock_ghg_factor': 0.1,\n",
       " 'fossil_arable_prod_factor': 0.0,\n",
       " 'fossil_arable_ghg_factor': 0.1,\n",
       " 'scaling_nutrient': 'kCal/cap/day',\n",
       " 'emission_factors': 'NDC 2020',\n",
       " 'yield_proj': 0,\n",
       " 'elasticity': 0,\n",
       " 'cereal_scaling': True,\n",
       " 'bdleaf_conif_ratio': 75}"
      ]
     },
     "execution_count": 3,
     "metadata": {},
     "output_type": "execute_result"
    }
   ],
   "source": [
    "advanced_settings_url = \"https://docs.google.com/spreadsheets/d/e/2PACX-1vTanjc08kc5vIN-icUMzMEGA9bJuDesLX8V_u2Ab6zSC4MOhLZ8Jrr18DL9o4ofKIrSq6FsJXhPWu3F/pub?gid=0&single=true&output=csv\"\n",
    "\n",
    "def read_advanced_settings():\n",
    "    \"\"\"Reads the advanced settings from the spreadsheet URL\"\"\"\n",
    "    advanced_settings  = pd.read_csv(advanced_settings_url, dtype='string')\n",
    "    advanced_settings_dict = {}\n",
    "\n",
    "    for index, row in advanced_settings.iterrows():\n",
    "        if row[\"type\"] == \"float\": \n",
    "            advanced_settings_dict[row[\"key\"]] = float(row[\"value\"])\n",
    "        elif row[\"type\"] == \"string\":\n",
    "            advanced_settings_dict[row[\"key\"]] = str(row[\"value\"])\n",
    "        elif row[\"type\"] == \"bool\":\n",
    "            advanced_settings_dict[row[\"key\"]] = row[\"value\"] == \"TRUE\"\n",
    "    \n",
    "    return advanced_settings_dict\n",
    "\n",
    "params = read_advanced_settings()\n",
    "\n",
    "params[\"yield_proj\"] = 0\n",
    "params[\"elasticity\"] = 0\n",
    "params[\"scaling_nutrient\"] = \"kCal/cap/day\"\n",
    "params[\"cereal_scaling\"] = True\n",
    "params[\"bdleaf_conif_ratio\"] = 75\n",
    "\n",
    "params\n"
   ]
  },
  {
   "cell_type": "code",
   "execution_count": 4,
   "id": "ba499bba",
   "metadata": {},
   "outputs": [],
   "source": [
    "# Set the datablock\n",
    "datablock_init = datablock_setup()\n"
   ]
  },
  {
   "cell_type": "code",
   "execution_count": 5,
   "id": "df138b2f",
   "metadata": {},
   "outputs": [],
   "source": [
    "# Set the pipeline and run it\n",
    "\n",
    "def SSR_emissions(input_datablock, params):\n",
    "\n",
    "    datablock_copy = copy.deepcopy(input_datablock)\n",
    "    food_system = Pipeline(datablock_copy)\n",
    "\n",
    "    # SSR\n",
    "    food_system = pipeline_setup(food_system, params)\n",
    "    food_system.run()\n",
    "    datablock_result = food_system.datablock\n",
    "\n",
    "    metric_yr = 2050\n",
    "    gcapday = datablock_result[\"food\"][\"g/cap/day\"].sel(Year=metric_yr).fillna(0)\n",
    "    SSR_metric_yr = gcapday.fbs.SSR()\n",
    "\n",
    "\n",
    "    # Emissions\n",
    "    seq_da = datablock_result[\"impact\"][\"co2e_sequestration\"].sel(Year=metric_yr)\n",
    "    emissions = datablock_result[\"impact\"][\"g_co2e/year\"][\"production\"].sel(Year=metric_yr)/1e6\n",
    "    total_emissions = emissions.sum(dim=\"Item\").values/1e6\n",
    "    total_seq = seq_da.sel(Item=[\"Broadleaf woodland\",\n",
    "                                    \"Coniferous woodland\",\n",
    "                                    \"Managed pasture\",\n",
    "                                    \"Managed arable\",\n",
    "                                    \"Mixed farming\",\n",
    "                                    \"Silvopasture\",\n",
    "                                    \"Agroforestry\"]).sum(dim=\"Item\").values/1e6\n",
    "\n",
    "    total_removals = seq_da.sel(Item=[\"BECCS from waste\", \"BECCS from overseas biomass\", \"BECCS from land\", \"DACCS\"]).sum(dim=\"Item\").values/1e6\n",
    "\n",
    "    emissions_balance = xr.DataArray(data = list(sector_emissions_dict.values()),\n",
    "                            name=\"Sectoral emissions\",\n",
    "                            coords={\"Sector\": list(sector_emissions_dict.keys())})\n",
    "\n",
    "    emissions_balance.loc[{\"Sector\": \"Agriculture\"}] = total_emissions\n",
    "    emissions_balance.loc[{\"Sector\": \"LU sinks\"}] = -total_seq\n",
    "    emissions_balance.loc[{\"Sector\": \"Removals\"}] = -total_removals\n",
    "\n",
    "    emissions_balance.loc[{\"Sector\": \"LU sources\"}] -= seq_da.sel(Item=[\"Restored upland peat\", \"Restored lowland peat\"]).sum(dim=\"Item\").values/1e6\n",
    "\n",
    "    total_emissions = emissions_balance.sum()\n",
    "\n",
    "    return SSR_metric_yr.to_numpy(), total_emissions.to_numpy()\n"
   ]
  },
  {
   "cell_type": "code",
   "execution_count": 6,
   "id": "2a8927be",
   "metadata": {},
   "outputs": [],
   "source": [
    "# Set the runtime parameters\n",
    "\n",
    "params[\"ruminant\"] = 0\n",
    "params[\"pig_poultry\"] = 0\n",
    "params[\"fish_seafood\"] = 0\n",
    "params[\"dairy\"] = 0\n",
    "params[\"eggs\"] = 0\n",
    "params[\"fruit_veg\"] = 0\n",
    "params[\"pulses\"] = 0\n",
    "params[\"meat_alternatives\"] = 0\n",
    "params[\"dairy_alternatives\"] = 0\n",
    "params[\"waste\"] = 0\n",
    "params[\"foresting_pasture\"] = 13.17\n",
    "params[\"land_BECCS\"] = 0\n",
    "params[\"horticulture\"] = 0\n",
    "params[\"pulse_production\"] = 0\n",
    "params[\"lowland_peatland\"] = 0\n",
    "params[\"upland_peatland\"] = 0\n",
    "params[\"pasture_soil_carbon\"] = 0\n",
    "params[\"arable_soil_carbon\"] = 0\n",
    "params[\"mixed_farming\"] = 0\n",
    "params[\"silvopasture\"] = 0\n",
    "params[\"nitrogen\"] = 0\n",
    "params[\"methane_inhibitor\"] = 0\n",
    "params[\"stock_density\"] = 0\n",
    "params[\"manure_management\"] = 0\n",
    "params[\"animal_breeding\"] = 0\n",
    "params[\"fossil_livestock\"] = 0\n",
    "params[\"agroforestry\"] = 0\n",
    "params[\"vertical_farming\"] = 0\n",
    "params[\"fossil_arable\"] = 0\n",
    "params[\"waste_BECCS\"] = 0\n",
    "params[\"overseas_BECCS\"] = 0\n",
    "params[\"DACCS\"] = 0"
   ]
  },
  {
   "cell_type": "code",
   "execution_count": null,
   "id": "03a07826",
   "metadata": {},
   "outputs": [],
   "source": [
    "SSR_results = np.empty((10,10))\n",
    "emissions_results = np.empty((10,10))\n",
    "\n",
    "for irm, rm in enumerate(np.linspace(0, 100, 10)):\n",
    "\n",
    "    params[\"ruminant\"] = rm\n",
    "\n",
    "    for isd, sd in enumerate(np.linspace(-50, 50, 10)):\n",
    "        params[\"stock_density\"] = sd\n",
    "\n",
    "        SSR_results[irm, isd], emissions_results[irm, isd] = SSR_emissions(datablock_init, params)"
   ]
  },
  {
   "cell_type": "code",
   "execution_count": 15,
   "id": "de99f33d",
   "metadata": {},
   "outputs": [
    {
     "data": {
      "text/plain": [
       "Text(0, 0.5, 'Ruminant')"
      ]
     },
     "execution_count": 15,
     "metadata": {},
     "output_type": "execute_result"
    },
    {
     "data": {
      "image/png": "[encoded data removed]",
      "text/plain": [
       "<Figure size 640x480 with 2 Axes>"
      ]
     },
     "metadata": {},
     "output_type": "display_data"
    }
   ],
   "source": [
    "plt.imshow(SSR_results, cmap='viridis', interpolation='nearest', extent=[-50, 50, 0, 100], aspect='auto')\n",
    "plt.colorbar(label='SSR')\n",
    "plt.xlabel('Stock Density')\n",
    "plt.ylabel('Ruminant')"
   ]
  },
  {
   "cell_type": "code",
   "execution_count": 16,
   "id": "70fb80b9",
   "metadata": {},
   "outputs": [
    {
     "data": {
      "text/plain": [
       "Text(0, 0.5, 'Ruminant')"
      ]
     },
     "execution_count": 16,
     "metadata": {},
     "output_type": "execute_result"
    },
    {
     "data": {
      "image/png": "[encoded data removed]",
      "text/plain": [
       "<Figure size 640x480 with 2 Axes>"
      ]
     },
     "metadata": {},
     "output_type": "display_data"
    }
   ],
   "source": [
    "plt.imshow(emissions_results, cmap='viridis', interpolation='nearest', extent=[-50, 50, 0, 100], aspect='auto')\n",
    "plt.colorbar(label='Emissions (Mt CO2e)')\n",
    "plt.xlabel('Stock Density')\n",
    "plt.ylabel('Ruminant')"
   ]
  }
 ],
 "metadata": {
  "kernelspec": {
   "display_name": "test_sampling_env",
   "language": "python",
   "name": "python3"
  },
  "language_info": {
   "codemirror_mode": {
    "name": "ipython",
    "version": 3
   },
   "file_extension": ".py",
   "mimetype": "text/x-python",
   "name": "python",
   "nbconvert_exporter": "python",
   "pygments_lexer": "ipython3",
   "version": "3.10.16"
  }
 },
 "nbformat": 4,
 "nbformat_minor": 5
}
