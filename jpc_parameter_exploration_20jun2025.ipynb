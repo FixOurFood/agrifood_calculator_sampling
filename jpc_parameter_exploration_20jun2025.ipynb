{
 "cells": [
  {
   "cell_type": "code",
   "execution_count": 1,
   "id": "3c8c4881-d9f6-4fd4-915a-0a5e56baf664",
   "metadata": {
    "trusted": true
   },
   "outputs": [],
   "source": [
    "import matplotlib.pyplot as plt\n",
    "import xarray as xr\n",
    "import numpy as np\n",
    "from scipy.ndimage import zoom\n",
    "import pandas as pd\n",
    "from pipeline_setup import *\n",
    "import time\n",
    "from scipy.optimize import minimize"
   ]
  },
  {
   "cell_type": "code",
   "execution_count": 2,
   "id": "cd836a08-85e0-4058-908f-4c0dd103aa6b",
   "metadata": {
    "trusted": true
   },
   "outputs": [],
   "source": [
    "# Set file locations\n",
    "advanced_settings_url = \"https://docs.google.com/spreadsheets/d/e/2PACX-1vTanjc08kc5vIN-icUMzMEGA9bJuDesLX8V_u2Ab6zSC4MOhLZ8Jrr18DL9o4ofKIrSq6FsJXhPWu3F/pub?gid=0&single=true&output=csv\"\n",
    "\n",
    "# Read in emissions from other sectors\n",
    "sector_emissions_dict = set_sector_emissions_dict()\n",
    "# Read in the advanced settings from the google sheet\n",
    "\n",
    "params = read_advanced_settings(advanced_settings_url)\n",
    "\n",
    "# Set the datablock\n",
    "datablock_init = datablock_setup()\n",
    "\n",
    "# Set the scenario parameters\n",
    "params_baseline = set_baseline_scenario(params)\n",
    "\n",
    "# Also add the baseline parameters to the datablock\n",
    "datablock_init.update(params_baseline)"
   ]
  },
  {
   "cell_type": "code",
   "execution_count": 3,
   "id": "7d596c2b",
   "metadata": {},
   "outputs": [
    {
     "data": {
      "text/html": [
       "<div>\n",
       "<style scoped>\n",
       "    .dataframe tbody tr th:only-of-type {\n",
       "        vertical-align: middle;\n",
       "    }\n",
       "\n",
       "    .dataframe tbody tr th {\n",
       "        vertical-align: top;\n",
       "    }\n",
       "\n",
       "    .dataframe thead th {\n",
       "        text-align: right;\n",
       "    }\n",
       "</style>\n",
       "<table border=\"1\" class=\"dataframe\">\n",
       "  <thead>\n",
       "    <tr style=\"text-align: right;\">\n",
       "      <th></th>\n",
       "      <th>Name</th>\n",
       "      <th>pop_proj</th>\n",
       "      <th>yield_proj</th>\n",
       "      <th>elasticity</th>\n",
       "      <th>ruminant</th>\n",
       "      <th>dairy</th>\n",
       "      <th>pig_poultry</th>\n",
       "      <th>eggs</th>\n",
       "      <th>pulses</th>\n",
       "      <th>fruit_veg</th>\n",
       "      <th>...</th>\n",
       "      <th>livestock_yield</th>\n",
       "      <th>agroforestry</th>\n",
       "      <th>arable_soil_carbon</th>\n",
       "      <th>fossil_arable</th>\n",
       "      <th>nitrogen</th>\n",
       "      <th>vertical_farming</th>\n",
       "      <th>waste_BECCS</th>\n",
       "      <th>overseas_BECCS</th>\n",
       "      <th>DACCS</th>\n",
       "      <th>biochar</th>\n",
       "    </tr>\n",
       "  </thead>\n",
       "  <tbody>\n",
       "    <tr>\n",
       "      <th>0</th>\n",
       "      <td>Min JPSarah1618 Thu19Jun25</td>\n",
       "      <td>Medium</td>\n",
       "      <td>0</td>\n",
       "      <td>0</td>\n",
       "      <td>-70</td>\n",
       "      <td>-60</td>\n",
       "      <td>-60</td>\n",
       "      <td>-60</td>\n",
       "      <td>0</td>\n",
       "      <td>-20</td>\n",
       "      <td>...</td>\n",
       "      <td>100</td>\n",
       "      <td>0</td>\n",
       "      <td>100</td>\n",
       "      <td>100</td>\n",
       "      <td>100</td>\n",
       "      <td>0</td>\n",
       "      <td>16</td>\n",
       "      <td>0</td>\n",
       "      <td>0</td>\n",
       "      <td>0</td>\n",
       "    </tr>\n",
       "    <tr>\n",
       "      <th>1</th>\n",
       "      <td>Max JPSarah1618 Thu19Jun25</td>\n",
       "      <td>Medium</td>\n",
       "      <td>0</td>\n",
       "      <td>0</td>\n",
       "      <td>0</td>\n",
       "      <td>15</td>\n",
       "      <td>15</td>\n",
       "      <td>15</td>\n",
       "      <td>500</td>\n",
       "      <td>500</td>\n",
       "      <td>...</td>\n",
       "      <td>100</td>\n",
       "      <td>100</td>\n",
       "      <td>100</td>\n",
       "      <td>100</td>\n",
       "      <td>100</td>\n",
       "      <td>60</td>\n",
       "      <td>16</td>\n",
       "      <td>0</td>\n",
       "      <td>0</td>\n",
       "      <td>0</td>\n",
       "    </tr>\n",
       "    <tr>\n",
       "      <th>2</th>\n",
       "      <td>Min LessMixedFarming</td>\n",
       "      <td>Medium</td>\n",
       "      <td>0</td>\n",
       "      <td>0</td>\n",
       "      <td>-70</td>\n",
       "      <td>-60</td>\n",
       "      <td>-60</td>\n",
       "      <td>-60</td>\n",
       "      <td>0</td>\n",
       "      <td>-20</td>\n",
       "      <td>...</td>\n",
       "      <td>100</td>\n",
       "      <td>0</td>\n",
       "      <td>100</td>\n",
       "      <td>100</td>\n",
       "      <td>100</td>\n",
       "      <td>0</td>\n",
       "      <td>16</td>\n",
       "      <td>0</td>\n",
       "      <td>0</td>\n",
       "      <td>0</td>\n",
       "    </tr>\n",
       "    <tr>\n",
       "      <th>3</th>\n",
       "      <td>Max LessMixedFarming</td>\n",
       "      <td>Medium</td>\n",
       "      <td>0</td>\n",
       "      <td>0</td>\n",
       "      <td>0</td>\n",
       "      <td>15</td>\n",
       "      <td>15</td>\n",
       "      <td>15</td>\n",
       "      <td>500</td>\n",
       "      <td>500</td>\n",
       "      <td>...</td>\n",
       "      <td>100</td>\n",
       "      <td>100</td>\n",
       "      <td>100</td>\n",
       "      <td>100</td>\n",
       "      <td>100</td>\n",
       "      <td>60</td>\n",
       "      <td>16</td>\n",
       "      <td>0</td>\n",
       "      <td>0</td>\n",
       "      <td>0</td>\n",
       "    </tr>\n",
       "  </tbody>\n",
       "</table>\n",
       "<p>4 rows × 40 columns</p>\n",
       "</div>"
      ],
      "text/plain": [
       "                         Name pop_proj yield_proj elasticity ruminant dairy  \\\n",
       "0  Min JPSarah1618 Thu19Jun25   Medium          0          0      -70   -60   \n",
       "1  Max JPSarah1618 Thu19Jun25   Medium          0          0        0    15   \n",
       "2        Min LessMixedFarming   Medium          0          0      -70   -60   \n",
       "3        Max LessMixedFarming   Medium          0          0        0    15   \n",
       "\n",
       "  pig_poultry eggs pulses fruit_veg  ... livestock_yield agroforestry  \\\n",
       "0         -60  -60      0       -20  ...             100            0   \n",
       "1          15   15    500       500  ...             100          100   \n",
       "2         -60  -60      0       -20  ...             100            0   \n",
       "3          15   15    500       500  ...             100          100   \n",
       "\n",
       "  arable_soil_carbon fossil_arable nitrogen vertical_farming waste_BECCS  \\\n",
       "0                100           100      100                0          16   \n",
       "1                100           100      100               60          16   \n",
       "2                100           100      100                0          16   \n",
       "3                100           100      100               60          16   \n",
       "\n",
       "  overseas_BECCS DACCS biochar  \n",
       "0              0     0       0  \n",
       "1              0     0       0  \n",
       "2              0     0       0  \n",
       "3              0     0       0  \n",
       "\n",
       "[4 rows x 40 columns]"
      ]
     },
     "execution_count": 3,
     "metadata": {},
     "output_type": "execute_result"
    }
   ],
   "source": [
    "# Read parameter ranges from scenarios spreadsheet\n",
    "ranges_worksheet_url = \"https://docs.google.com/spreadsheets/d/e/2PACX-1vRXLuSuuxfTx1tUilnO1KojbaGiO-o-rtf1OtsQ0YHetV-OozWH1BXc7N-1Y9jG9Ue2ys7mcf-SzPc3/pub?gid=1034155472&single=true&output=csv\"\n",
    "ranges = pd.read_csv(ranges_worksheet_url, dtype='string', skiprows=2)\n",
    "ranges.head()"
   ]
  },
  {
   "cell_type": "code",
   "execution_count": 4,
   "id": "d983c589",
   "metadata": {},
   "outputs": [
    {
     "data": {
      "text/plain": [
       "['JPSarah1618 Thu19Jun25', 'LessMixedFarming']"
      ]
     },
     "execution_count": 4,
     "metadata": {},
     "output_type": "execute_result"
    }
   ],
   "source": [
    "# Remove \"Max \" and \"Min \" prefixes and extract unique names\n",
    "unique_names = ranges[\"Name\"].dropna().str.replace(r\"^(Max |Min )\", \"\", regex=True).unique()\n",
    "unique_names\n",
    "# Create a dictionary to store the ranges\n",
    "ranges_dict = {}\n",
    "\n",
    "# Iterate over unique range names\n",
    "for name in unique_names:\n",
    "    # Filter rows corresponding to the current range name\n",
    "    min_row = ranges[ranges[\"Name\"] == f\"Min {name}\"].iloc[0]\n",
    "    max_row = ranges[ranges[\"Name\"] == f\"Max {name}\"].iloc[0]\n",
    "    \n",
    "    # Extract parameter ranges as tuples\n",
    "    param_ranges = {\n",
    "        col: (float(min_row[col]), float(max_row[col]))\n",
    "        for col in ranges.columns[3:]  # Skip the \"Name\" column\n",
    "        if pd.notna(min_row[col]) and pd.notna(max_row[col])  # Ensure values are not NaN\n",
    "    }\n",
    "    \n",
    "    # Add to the dictionary\n",
    "    ranges_dict[name] = param_ranges\n",
    "\n",
    "list(ranges_dict.keys())"
   ]
  },
  {
   "cell_type": "code",
   "execution_count": 5,
   "id": "6ec79198-58a7-4331-8e61-4f2e6b228e92",
   "metadata": {
    "trusted": true
   },
   "outputs": [
    {
     "data": {
      "text/plain": [
       "['ruminant',\n",
       " 'dairy',\n",
       " 'pig_poultry',\n",
       " 'eggs',\n",
       " 'pulses',\n",
       " 'fruit_veg',\n",
       " 'meat_alternatives',\n",
       " 'dairy_alternatives',\n",
       " 'waste',\n",
       " 'foresting_pasture',\n",
       " 'land_BECCS',\n",
       " 'land_BECCS_pasture',\n",
       " 'lowland_peatland',\n",
       " 'upland_peatland',\n",
       " 'horticulture',\n",
       " 'pulse_production',\n",
       " 'mixed_farming',\n",
       " 'silvopasture',\n",
       " 'stock_density',\n",
       " 'agroforestry',\n",
       " 'vertical_farming']"
      ]
     },
     "execution_count": 5,
     "metadata": {},
     "output_type": "execute_result"
    }
   ],
   "source": [
    "# Name the output parameters of the current calculator function \n",
    "# (ideally these would be set and returned by the calculator)\n",
    "z1_name = \"SSR weight\"\n",
    "z2_name = \"SSR prot\"\n",
    "z3_name = \"SSR fat\"\n",
    "z4_name = \"SSR kcal\"\n",
    "z5_name = \"emissions\"\n",
    "z6_name = \"herd size\"\n",
    "z7_name = \"animals\"\n",
    "\n",
    "z_names = [z1_name, z2_name, z3_name, z4_name, z5_name, z6_name, z7_name]\n",
    "\n",
    "# Name the params we are going to vary\n",
    "param_range_dict = {\n",
    "    \"ruminant\":             (-100, 50),\n",
    "    \"pig_poultry\":          (-100, 100),\n",
    "    \"fish_seafood\":         (-100, 100),\n",
    "    \"dairy\":                (-50, 100),\n",
    "    \"eggs\":                 (-100, 100),\n",
    "    \"fruit_veg\":            (-100, 500),\n",
    "    \"pulses\":               (-100, 500),\n",
    "    \"meat_alternatives\":    (0, 100),\n",
    "    \"dairy_alternatives\":   (0, 100),\n",
    "    \"waste\":                (0, 100),\n",
    "\n",
    "    \"foresting_pasture\":    (10, 50),\n",
    "    \"land_BECCS\":           (0, 100),\n",
    "    \"land_BECCS_pasture\":   (0, 100),\n",
    "    \"horticulture\":         (-100, 500),\n",
    "    \"pulse_production\":     (-100, 500),\n",
    "    \"lowland_peatland\":     (0, 100),\n",
    "    \"upland_peatland\":      (0, 100),\n",
    "    \"pasture_soil_carbon\":  (0, 100),\n",
    "    \"arable_soil_carbon\":   (0, 100),\n",
    "    \"mixed_farming\":        (0, 25),\n",
    "\n",
    "    \"silvopasture\":         (0,100),\n",
    "    \"methane_inhibitor\":    (0,100),\n",
    "    \"stock_density\":        (-100,50),\n",
    "    \"manure_management\":    (0,100),\n",
    "    \"animal_breeding\":      (0,100),\n",
    "    \"fossil_livestock\":     (0,100),\n",
    "\n",
    "    \"agroforestry\":         (0,100),\n",
    "    \"nitrogen\":             (0,100),\n",
    "    \"vertical_farming\":     (0,100),\n",
    "    \"fossil_arable\":        (0,100),\n",
    "\n",
    "    \"waste_BECCS\":          (0,40)\n",
    "           }\n",
    "\n",
    "# List of parameter names and ranges\n",
    "def names_bounds(param_range_dict):\n",
    "\n",
    "    param_range_dict_with_range = {k: v for k, v in param_range_dict.items() if v[0] != v[1]}\n",
    "\n",
    "    names_x = list(param_range_dict_with_range.keys())\n",
    "    x_bounds = list(param_range_dict_with_range.values())\n",
    "\n",
    "    names_fixed = [k for k, v in param_range_dict.items() if v[0] == v[1]]\n",
    "    values_fixed = [v[0] for k, v in param_range_dict.items() if v[0] == v[1]]\n",
    "\n",
    "    return names_x, x_bounds, names_fixed, values_fixed\n",
    "\n",
    "# names_x, x_bounds = names_bounds(param_range_dict)\n",
    "names_x, x_bounds, names_fixed, values_fixed = names_bounds(ranges_dict[\"JPSarah1618 Thu19Jun25\"])\n",
    "names_x"
   ]
  },
  {
   "cell_type": "code",
   "execution_count": 6,
   "id": "d3d8626a",
   "metadata": {},
   "outputs": [
    {
     "name": "stdout",
     "output_type": "stream",
     "text": [
      "elasticity 0.0\n",
      "bdleaf_conif_ratio 75.0\n",
      "pasture_soil_carbon 100.0\n",
      "methane_inhibitor 100.0\n",
      "manure_management 100.0\n",
      "animal_breeding 100.0\n",
      "fossil_livestock 100.0\n",
      "livestock_yield 100.0\n",
      "arable_soil_carbon 100.0\n",
      "fossil_arable 100.0\n",
      "nitrogen 100.0\n",
      "waste_BECCS 16.0\n",
      "overseas_BECCS 0.0\n",
      "DACCS 0.0\n",
      "biochar 0.0\n"
     ]
    }
   ],
   "source": [
    "# Update baseline parameters\n",
    "for k, v in zip(names_fixed, values_fixed):\n",
    "    datablock_init[k] = v\n",
    "    params_baseline[k] = v\n",
    "    print(k, v)"
   ]
  },
  {
   "cell_type": "code",
   "execution_count": 7,
   "id": "9521b2d2",
   "metadata": {},
   "outputs": [],
   "source": [
    "# Create an class with anobjective function suitable for giving to the scipy minimizer\n",
    "# Including a cache to avoid recomputing the same values\n",
    "class FFCObjectiveWithCache:\n",
    "    \"\"\"A class to compute the objective function and constraints for FFC optimization with caching.\n",
    "    Parameters:\n",
    "        names_x (list): List of parameter names to be optimized.\n",
    "        datablock_init (dict): Initial data block containing fixed parameters.\n",
    "        params_default (dict): Default parameters for the optimization.\n",
    "        sector_emissions_dict (dict): Dictionary containing emissions data for different sectors.\n",
    "        verbosity (int): Level of verbosity for output messages.\n",
    "    \"\"\"\n",
    "    def __init__(self, names_x, datablock_init, params_default, verbosity=0):\n",
    "        self.names_x = names_x\n",
    "        self.datablock_init = datablock_init\n",
    "        self.params_default = params_default\n",
    "        self._cache = {}\n",
    "        self.verbosity = verbosity\n",
    "\n",
    "        # Define the names of the z variables returned by the calculator\n",
    "        self.z_names = [\"SSR weight\",\n",
    "                   \"SSR prot\",\n",
    "                   \"SSR fat\",\n",
    "                   \"SSR kcal\",\n",
    "                   \"emissions\",\n",
    "                   \"herd size\",\n",
    "                   \"animals\"]\n",
    "\n",
    "    def _calculate(self, x_tuple, verbosity):\n",
    "        \n",
    "        x = list(x_tuple)\n",
    "        # Only recompute if not already cached\n",
    "        \n",
    "        if x_tuple not in self._cache:\n",
    "\n",
    "            # Update the parameters with the current values\n",
    "            params = self.params_default.copy()\n",
    "            for i_name, name_string in enumerate(self.names_x):\n",
    "                params[name_string] = x[i_name]\n",
    "            \n",
    "            # Perform the SSR and emissions calculation\n",
    "            z_val = run_calculator(self.datablock_init, params)\n",
    "\n",
    "            # cached dict\n",
    "            zval_dict = {zn: zv for zn, zv in zip(self.z_names, z_val)}\n",
    "\n",
    "            # Store the results in the cache\n",
    "            self._cache[x_tuple] = zval_dict\n",
    "\n",
    "        # Print out what's going on \n",
    "        if (verbosity > 1):\n",
    "            for i_name, name_string in enumerate(self.names_x):\n",
    "                print(f\"{name_string} = {x[i_name]:.10f}; \", end=\"\")\n",
    "            for i_name, name_string in enumerate(list(self._cache[x_tuple].keys())):\n",
    "                print(f\"{name_string} = {self._cache[x_tuple][name_string]:.10f}; \", end=\"\")\n",
    "            print()\n",
    "\n",
    "        return self._cache[x_tuple]\n",
    "\n",
    "    # Define the objective function for minimization\n",
    "    def objective(self, x, z_name_requested, verbosity=None):\n",
    "        x_tuple = tuple(x)\n",
    "        if verbosity is None:\n",
    "            verbosity = self.verbosity\n",
    "        return self._calculate(x_tuple, verbosity)[z_name_requested]\n",
    "    \n",
    "    # Define the objective function for minimization\n",
    "    def negative_objective(self, x, z_name_requested, verbosity=None):\n",
    "        x_tuple = tuple(x)\n",
    "        if verbosity is None:\n",
    "            verbosity = self.verbosity\n",
    "        return -self._calculate(x_tuple, verbosity)[z_name_requested]\n",
    "\n",
    "    # Define the objective function for SSR constraint\n",
    "    def positive_constraint(self, x, key, threshold, verbosity=None):\n",
    "        x_tuple = tuple(x)\n",
    "        if verbosity is None:\n",
    "            verbosity = self.verbosity\n",
    "        return self._calculate(x_tuple, verbosity)[key] - threshold\n",
    "    \n",
    "    def negative_constraint(self, x, key, threshold, verbosity=None):\n",
    "        x_tuple = tuple(x)\n",
    "        if verbosity is None:\n",
    "            verbosity = self.verbosity\n",
    "        return threshold - self._calculate(x_tuple, verbosity)[key]\n",
    "    "
   ]
  },
  {
   "cell_type": "code",
   "execution_count": 8,
   "id": "25c44a75-6e9b-45e1-83a5-cd58629dd89d",
   "metadata": {
    "trusted": true
   },
   "outputs": [
    {
     "name": "stdout",
     "output_type": "stream",
     "text": [
      "SSR weight = 0.67366432; SSR prot = 0.73314955; SSR fat = 0.63337477; SSR kcal = 0.68543863; emissions = 54.43513442; herd size = 9151744.10648140; animals = 222863917.05211931; "
     ]
    }
   ],
   "source": [
    "# Do a test calculation\n",
    "z_val_baseline = run_calculator(datablock_init, params_baseline)\n",
    "#print(f\"SSR = {SSR_result:.8f}; GHG = {emissions_result:.8f}\")\n",
    "\n",
    "for zn, zval in zip(z_names, z_val_baseline):\n",
    "    print(f\"{zn} = {zval:.8f}; \", end=\"\")\n",
    "# This is my checksum for debugging: \n",
    "# SSR = 0.67366432; GHG = 94.22954995"
   ]
  },
  {
   "cell_type": "code",
   "execution_count": null,
   "id": "2afc916e-db7d-4f4c-8cf6-50d3de09d51d",
   "metadata": {
    "trusted": true
   },
   "outputs": [],
   "source": [
    "# Set tolerances, verbosity, and options for the minimizer\n",
    "ffc_tol = 1e-6\n",
    "options = {\n",
    "    'disp': True,      # Show convergence messages\n",
    "    'maxiter': 5000,     # Max number of iterations\n",
    "    'rhobeg' : 10 # Reasonable step size (mostly they are percentages, so change by 10%)\n",
    "}\n"
   ]
  },
  {
   "cell_type": "code",
   "execution_count": null,
   "id": "45aeefc3",
   "metadata": {},
   "outputs": [
    {
     "name": "stdout",
     "output_type": "stream",
     "text": [
      "ruminant = 0.0000000000; dairy = 0.0000000000; pig_poultry = 0.0000000000; eggs = 0.0000000000; pulses = 0.0000000000; fruit_veg = 0.0000000000; meat_alternatives = 0.0000000000; dairy_alternatives = 0.0000000000; waste = 0.0000000000; foresting_pasture = 13.1700000000; land_BECCS = 0.0000000000; land_BECCS_pasture = 0.0000000000; lowland_peatland = 0.0000000000; upland_peatland = 0.0000000000; horticulture = 0.0000000000; pulse_production = 0.0000000000; mixed_farming = 0.0000000000; silvopasture = 0.0000000000; stock_density = 0.0000000000; agroforestry = 0.0000000000; vertical_farming = 0.0000000000; SSR weight = 0.6736643225; SSR prot = 0.7331495528; SSR fat = 0.6333747730; SSR kcal = 0.6854386315; emissions = 54.4351344249; herd size = 9151744.1064814031; animals = 222863917.0521193147; \n",
      "ruminant = 10.0000000000; dairy = 0.0000000000; pig_poultry = 0.0000000000; eggs = 0.0000000000; pulses = 0.0000000000; fruit_veg = 0.0000000000; meat_alternatives = 0.0000000000; dairy_alternatives = 0.0000000000; waste = 0.0000000000; foresting_pasture = 13.1700000000; land_BECCS = 0.0000000000; land_BECCS_pasture = 0.0000000000; lowland_peatland = 0.0000000000; upland_peatland = 0.0000000000; horticulture = 0.0000000000; pulse_production = 0.0000000000; mixed_farming = 0.0000000000; silvopasture = 0.0000000000; stock_density = 0.0000000000; agroforestry = 0.0000000000; vertical_farming = 0.0000000000; SSR weight = 0.6730735925; SSR prot = 0.7310786549; SSR fat = 0.6319188427; SSR kcal = 0.6854386315; emissions = 54.4351344249; herd size = 9151744.1064814031; animals = 222863917.0521193147; \n",
      "ruminant = 0.0000000000; dairy = 10.0000000000; pig_poultry = 0.0000000000; eggs = 0.0000000000; pulses = 0.0000000000; fruit_veg = 0.0000000000; meat_alternatives = 0.0000000000; dairy_alternatives = 0.0000000000; waste = 0.0000000000; foresting_pasture = 13.1700000000; land_BECCS = 0.0000000000; land_BECCS_pasture = 0.0000000000; lowland_peatland = 0.0000000000; upland_peatland = 0.0000000000; horticulture = 0.0000000000; pulse_production = 0.0000000000; mixed_farming = 0.0000000000; silvopasture = 0.0000000000; stock_density = 0.0000000000; agroforestry = 0.0000000000; vertical_farming = 0.0000000000; SSR weight = 0.6660264866; SSR prot = 0.7306105858; SSR fat = 0.6252143820; SSR kcal = 0.6854386316; emissions = 54.4351344249; herd size = 9151744.1064814031; animals = 222863917.0521193147; \n",
      "ruminant = 0.0000000000; dairy = 0.0000000000; pig_poultry = 10.0000000000; eggs = 0.0000000000; pulses = 0.0000000000; fruit_veg = 0.0000000000; meat_alternatives = 0.0000000000; dairy_alternatives = 0.0000000000; waste = 0.0000000000; foresting_pasture = 13.1700000000; land_BECCS = 0.0000000000; land_BECCS_pasture = 0.0000000000; lowland_peatland = 0.0000000000; upland_peatland = 0.0000000000; horticulture = 0.0000000000; pulse_production = 0.0000000000; mixed_farming = 0.0000000000; silvopasture = 0.0000000000; stock_density = 0.0000000000; agroforestry = 0.0000000000; vertical_farming = 0.0000000000; SSR weight = 0.6730592471; SSR prot = 0.7289897342; SSR fat = 0.6248180181; SSR kcal = 0.6854386315; emissions = 54.4351344249; herd size = 9151744.1064814031; animals = 222863917.0521193147; \n",
      "ruminant = 0.0000000000; dairy = 0.0000000000; pig_poultry = 0.0000000000; eggs = 10.0000000000; pulses = 0.0000000000; fruit_veg = 0.0000000000; meat_alternatives = 0.0000000000; dairy_alternatives = 0.0000000000; waste = 0.0000000000; foresting_pasture = 13.1700000000; land_BECCS = 0.0000000000; land_BECCS_pasture = 0.0000000000; lowland_peatland = 0.0000000000; upland_peatland = 0.0000000000; horticulture = 0.0000000000; pulse_production = 0.0000000000; mixed_farming = 0.0000000000; silvopasture = 0.0000000000; stock_density = 0.0000000000; agroforestry = 0.0000000000; vertical_farming = 0.0000000000; SSR weight = 0.6733684043; SSR prot = 0.7322870236; SSR fat = 0.6324777267; SSR kcal = 0.6854386315; emissions = 54.4351344249; herd size = 9151744.1064814031; animals = 222863917.0521193147; \n",
      "ruminant = 0.0000000000; dairy = 0.0000000000; pig_poultry = 0.0000000000; eggs = 0.0000000000; pulses = 10.0000000000; fruit_veg = 0.0000000000; meat_alternatives = 0.0000000000; dairy_alternatives = 0.0000000000; waste = 0.0000000000; foresting_pasture = 13.1700000000; land_BECCS = 0.0000000000; land_BECCS_pasture = 0.0000000000; lowland_peatland = 0.0000000000; upland_peatland = 0.0000000000; horticulture = 0.0000000000; pulse_production = 0.0000000000; mixed_farming = 0.0000000000; silvopasture = 0.0000000000; stock_density = 0.0000000000; agroforestry = 0.0000000000; vertical_farming = 0.0000000000; SSR weight = 0.6736883579; SSR prot = 0.7328315381; SSR fat = 0.6333625899; SSR kcal = 0.6854386315; emissions = 54.4351344249; herd size = 9151744.1064814031; animals = 222863917.0521193147; \n",
      "ruminant = 0.0000000000; dairy = 0.0000000000; pig_poultry = 0.0000000000; eggs = 0.0000000000; pulses = 0.0000000000; fruit_veg = 10.0000000000; meat_alternatives = 0.0000000000; dairy_alternatives = 0.0000000000; waste = 0.0000000000; foresting_pasture = 13.1700000000; land_BECCS = 0.0000000000; land_BECCS_pasture = 0.0000000000; lowland_peatland = 0.0000000000; upland_peatland = 0.0000000000; horticulture = 0.0000000000; pulse_production = 0.0000000000; mixed_farming = 0.0000000000; silvopasture = 0.0000000000; stock_density = 0.0000000000; agroforestry = 0.0000000000; vertical_farming = 0.0000000000; SSR weight = 0.6662422129; SSR prot = 0.7338228199; SSR fat = 0.6330977499; SSR kcal = 0.6854386315; emissions = 54.4351344249; herd size = 9151744.1064814031; animals = 222863917.0521193147; \n",
      "ruminant = 0.0000000000; dairy = 0.0000000000; pig_poultry = 0.0000000000; eggs = 0.0000000000; pulses = 0.0000000000; fruit_veg = 0.0000000000; meat_alternatives = 10.0000000000; dairy_alternatives = 0.0000000000; waste = 0.0000000000; foresting_pasture = 13.1700000000; land_BECCS = 0.0000000000; land_BECCS_pasture = 0.0000000000; lowland_peatland = 0.0000000000; upland_peatland = 0.0000000000; horticulture = 0.0000000000; pulse_production = 0.0000000000; mixed_farming = 0.0000000000; silvopasture = 0.0000000000; stock_density = 0.0000000000; agroforestry = 0.0000000000; vertical_farming = 0.0000000000; SSR weight = 0.6711526832; SSR prot = 0.7248402162; SSR fat = 0.6298843972; SSR kcal = 0.6854386315; emissions = 54.4351344249; herd size = 9151744.1064814031; animals = 222863917.0521193147; \n",
      "ruminant = 0.0000000000; dairy = 0.0000000000; pig_poultry = 0.0000000000; eggs = 0.0000000000; pulses = 0.0000000000; fruit_veg = 0.0000000000; meat_alternatives = 0.0000000000; dairy_alternatives = 10.0000000000; waste = 0.0000000000; foresting_pasture = 13.1700000000; land_BECCS = 0.0000000000; land_BECCS_pasture = 0.0000000000; lowland_peatland = 0.0000000000; upland_peatland = 0.0000000000; horticulture = 0.0000000000; pulse_production = 0.0000000000; mixed_farming = 0.0000000000; silvopasture = 0.0000000000; stock_density = 0.0000000000; agroforestry = 0.0000000000; vertical_farming = 0.0000000000; SSR weight = 0.6656566459; SSR prot = 0.7298081462; SSR fat = 0.6272387126; SSR kcal = 0.6854386315; emissions = 54.4351344249; herd size = 9151744.1064814031; animals = 222863917.0521193147; \n",
      "ruminant = 0.0000000000; dairy = 0.0000000000; pig_poultry = 0.0000000000; eggs = 0.0000000000; pulses = 0.0000000000; fruit_veg = 0.0000000000; meat_alternatives = 0.0000000000; dairy_alternatives = 0.0000000000; waste = 10.0000000000; foresting_pasture = 13.1700000000; land_BECCS = 0.0000000000; land_BECCS_pasture = 0.0000000000; lowland_peatland = 0.0000000000; upland_peatland = 0.0000000000; horticulture = 0.0000000000; pulse_production = 0.0000000000; mixed_farming = 0.0000000000; silvopasture = 0.0000000000; stock_density = 0.0000000000; agroforestry = 0.0000000000; vertical_farming = 0.0000000000; SSR weight = 0.6877427687; SSR prot = 0.7469707863; SSR fat = 0.6477839049; SSR kcal = 0.6985711781; emissions = 54.4351344249; herd size = 9151744.1064814031; animals = 222863917.0521193147; \n",
      "\n",
      "   Return from subroutine COBYLA because the MAXFUN limit has been reached.\n",
      "\n",
      "   NFVALS =   10   F =-2.228639E+08    MAXCV = 5.443513E+01\n",
      "   X = 0.000000E+00   0.000000E+00   0.000000E+00   0.000000E+00   0.000000E+00\n",
      "       0.000000E+00   0.000000E+00   0.000000E+00   0.000000E+00   1.317000E+01\n",
      "       0.000000E+00   0.000000E+00   0.000000E+00   0.000000E+00   0.000000E+00\n",
      "       0.000000E+00   0.000000E+00   0.000000E+00   0.000000E+00   0.000000E+00\n",
      "       0.000000E+00\n"
     ]
    }
   ],
   "source": [
    "ffc_wrapper = FFCObjectiveWithCache(names_x, datablock_init, params_baseline, verbosity=2)\n",
    "\n",
    "# z_name_requested = \"SSR weight\"\n",
    "z_name_requested = \"herd size\"\n",
    "z_name_requested = \"animals\"\n",
    "x0 = [params_baseline[n] for n in names_x]\n",
    "ffc_constraints = [{'type': 'ineq', 'fun': lambda x: ffc_wrapper.positive_constraint(x, \"SSR weight\", threshold=0.7201, verbosity=0)},\n",
    "                   {'type': 'ineq', 'fun': lambda x: ffc_wrapper.positive_constraint(x, \"SSR prot\", threshold=0.7837, verbosity=0)},\n",
    "                   {'type': 'ineq', 'fun': lambda x: ffc_wrapper.positive_constraint(x, \"SSR fat\", threshold=0.6770, verbosity=0)},\n",
    "                   {'type': 'ineq', 'fun': lambda x: ffc_wrapper.positive_constraint(x, \"SSR kcal\", threshold=0.7327, verbosity=0)},\n",
    "                   {'type': 'ineq', 'fun': lambda x: ffc_wrapper.negative_constraint(x, \"emissions\", threshold=0.0, verbosity=0)}]\n",
    "\n",
    "result = minimize(\n",
    "    lambda x: ffc_wrapper.negative_objective(x, z_name_requested),\n",
    "    # lambda x: ffc_wrapper.objective(x, z_name_requested),\n",
    "    x0,\n",
    "    method='COBYLA',\n",
    "    bounds=x_bounds,\n",
    "    constraints=ffc_constraints,\n",
    "    tol=ffc_tol,\n",
    "    options=options\n",
    ")"
   ]
  },
  {
   "cell_type": "code",
   "execution_count": 11,
   "id": "94b2178d-2b45-4177-a0bb-0497b8d94334",
   "metadata": {
    "scrolled": true,
    "trusted": true
   },
   "outputs": [
    {
     "data": {
      "text/plain": [
       " message: Did not converge to a solution satisfying the constraints. See `maxcv` for magnitude of violation.\n",
       " success: False\n",
       "  status: 4\n",
       "     fun: -222863917.0521193\n",
       "       x: [ 0.000e+00  0.000e+00 ...  0.000e+00  0.000e+00]\n",
       "    nfev: 10\n",
       "   maxcv: 54.435134424867854"
      ]
     },
     "execution_count": 11,
     "metadata": {},
     "output_type": "execute_result"
    }
   ],
   "source": [
    "result"
   ]
  },
  {
   "cell_type": "code",
   "execution_count": 12,
   "id": "32393df1-b4cf-4dd4-8fd3-4ff06beeb265",
   "metadata": {
    "trusted": true
   },
   "outputs": [
    {
     "name": "stdout",
     "output_type": "stream",
     "text": [
      "Optimization success: False\n",
      "Message: Did not converge to a solution satisfying the constraints. See `maxcv` for magnitude of violation.\n",
      "Number of iterations: 10\n",
      "Optimal value of x: [ 0.    0.    0.    0.    0.    0.    0.    0.    0.   13.17  0.    0.\n",
      "  0.    0.    0.    0.    0.    0.    0.    0.    0.  ]\n",
      "Minimum value of function: -222863917.0521193\n"
     ]
    }
   ],
   "source": [
    "# The result is an OptimizeResult object\n",
    "print(\"Optimization success:\", result.success)\n",
    "print(\"Message:\", result.message)\n",
    "print(\"Number of iterations:\", result.nfev)\n",
    "print(\"Optimal value of x:\", result.x)\n",
    "print(\"Minimum value of function:\", result.fun)"
   ]
  },
  {
   "cell_type": "code",
   "execution_count": 13,
   "id": "ed4e0960-6b25-4553-a3db-862243550c8f",
   "metadata": {
    "trusted": true
   },
   "outputs": [
    {
     "name": "stdout",
     "output_type": "stream",
     "text": [
      "Optimized parameters:  [ 0.    0.    0.    0.    0.    0.    0.    0.    0.   13.17  0.    0.\n",
      "  0.    0.    0.    0.    0.    0.    0.    0.    0.  ]\n",
      "Optimized value:  -222863917.0521193\n",
      "Was the minimization succesfull?  False\n"
     ]
    }
   ],
   "source": [
    "print(\"Optimized parameters: \", result['x'])      # Optimal parameters\n",
    "print(\"Optimized value: \", result['fun'])    # Minimum value of the objective\n",
    "print(\"Was the minimization succesfull? \", result['success'])  # Boolean indicating if it was successful"
   ]
  },
  {
   "cell_type": "code",
   "execution_count": 14,
   "id": "87e65c83-987f-44da-922f-75b9f6d7a912",
   "metadata": {
    "trusted": true
   },
   "outputs": [
    {
     "name": "stdout",
     "output_type": "stream",
     "text": [
      "ruminant = 0.0000000000; dairy = 0.0000000000; pig_poultry = 0.0000000000; eggs = 0.0000000000; pulses = 0.0000000000; fruit_veg = 0.0000000000; meat_alternatives = 0.0000000000; dairy_alternatives = 0.0000000000; waste = 0.0000000000; foresting_pasture = 13.1700000000; land_BECCS = 0.0000000000; land_BECCS_pasture = 0.0000000000; lowland_peatland = 0.0000000000; upland_peatland = 0.0000000000; horticulture = 0.0000000000; pulse_production = 0.0000000000; mixed_farming = 0.0000000000; silvopasture = 0.0000000000; stock_density = 0.0000000000; agroforestry = 0.0000000000; vertical_farming = 0.0000000000; SSR weight = 0.6736643225; SSR prot = 0.7331495528; SSR fat = 0.6333747730; SSR kcal = 0.6854386315; emissions = 54.4351344249; herd size = 9151744.1064814031; animals = 222863917.0521193147; \n",
      "ruminant = 0.0000000000; dairy = 0.0000000000; pig_poultry = 0.0000000000; eggs = 0.0000000000; pulses = 0.0000000000; fruit_veg = 0.0000000000; meat_alternatives = 0.0000000000; dairy_alternatives = 0.0000000000; waste = 0.0000000000; foresting_pasture = 13.1700000000; land_BECCS = 0.0000000000; land_BECCS_pasture = 0.0000000000; lowland_peatland = 0.0000000000; upland_peatland = 0.0000000000; horticulture = 0.0000000000; pulse_production = 0.0000000000; mixed_farming = 0.0000000000; silvopasture = 0.0000000000; stock_density = 0.0000000000; agroforestry = 0.0000000000; vertical_farming = 0.0000000000; SSR weight = 0.6736643225; SSR prot = 0.7331495528; SSR fat = 0.6333747730; SSR kcal = 0.6854386315; emissions = 54.4351344249; herd size = 9151744.1064814031; animals = 222863917.0521193147; \n",
      "SSR weight = 0.67366432; emissions = 54.43513442\n"
     ]
    }
   ],
   "source": [
    "# Display the results\n",
    "#z1_val, z2_val = list(ffc_results.values())[:2]\n",
    "z1_val = ffc_wrapper.objective(result.x, \"SSR weight\")\n",
    "z2_val = ffc_wrapper.objective(result.x, \"emissions\")\n",
    "print(f\"SSR weight = {z1_val:.8f}; emissions = {z2_val:.8f}\")\n"
   ]
  },
  {
   "cell_type": "code",
   "execution_count": 18,
   "id": "966e2822",
   "metadata": {},
   "outputs": [
    {
     "name": "stdout",
     "output_type": "stream",
     "text": [
      "ruminant 0.00\n",
      "dairy 0.00\n",
      "pig_poultry 0.00\n",
      "eggs 0.00\n",
      "pulses 0.00\n",
      "fruit_veg 0.00\n",
      "meat_alternatives 0.00\n",
      "dairy_alternatives 0.00\n",
      "waste 0.00\n",
      "foresting_pasture 13.17\n",
      "land_BECCS 0.00\n",
      "land_BECCS_pasture 0.00\n",
      "lowland_peatland 0.00\n",
      "upland_peatland 0.00\n",
      "horticulture 0.00\n",
      "pulse_production 0.00\n",
      "mixed_farming 0.00\n",
      "silvopasture 0.00\n",
      "stock_density 0.00\n",
      "agroforestry 0.00\n",
      "vertical_farming 0.00\n"
     ]
    }
   ],
   "source": [
    "# Generate URL with output parameters\n",
    "results_dict = {k: v for k, v in zip(result[\"x\"], names_x)}\n",
    "\n",
    "URL_name = \"sarahjp-hack.streamlit.app/?\"\n",
    "\n",
    "for n, x in zip(names_x, result[\"x\"]):\n",
    "\n",
    "    print(f\"{n} {x:.2f}\")\n",
    "\n",
    "    URL_name += f\"{n}={x:.2f}&\"\n",
    "\n",
    "URL_name = URL_name[:-1]\n",
    "# print(URL_name)"
   ]
  }
 ],
 "metadata": {
  "kernelspec": {
   "display_name": "st_consultation",
   "language": "python",
   "name": "python3"
  },
  "language_info": {
   "codemirror_mode": {
    "name": "ipython",
    "version": 3
   },
   "file_extension": ".py",
   "mimetype": "text/x-python",
   "name": "python",
   "nbconvert_exporter": "python",
   "pygments_lexer": "ipython3",
   "version": "3.10.16"
  }
 },
 "nbformat": 4,
 "nbformat_minor": 5
}
